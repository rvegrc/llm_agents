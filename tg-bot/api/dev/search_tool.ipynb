{
 "cells": [
  {
   "cell_type": "code",
   "execution_count": 1,
   "id": "76ff69bf",
   "metadata": {},
   "outputs": [
    {
     "data": {
      "text/plain": [
       "{'query': 'Какая погода сегодня в Москве',\n",
       " 'follow_up_questions': None,\n",
       " 'answer': None,\n",
       " 'images': [],\n",
       " 'results': [{'url': 'https://www.gismeteo.ru/weather-moscow-4368/',\n",
       "   'title': 'Погода в Москве сегодня - Gismeteo',\n",
       "   'content': 'GISMETEO: Погода в Москве сегодня, прогноз погоды Москва на сегодня, Москва (город федерального значения), Россия Страна, граничащая с Россией, отправила боевых роботов на УкраинуИран атаковал военную базу США в Сирии«Ведьмин котел» впервые обнаружили в ХакасииНазвана средняя пенсия по РоссииЗахарова посоветовала Германии «готовиться» к ответу МосквыВ Соцфонде назвали размер средней пенсии в РоссииИран запустил сверхтяжёлую баллистическую ракету «Саджил»Режиссера Виктора Мосиенко приговорили к 17 годам тюрьмыУченые определили самый полезный хлеб для россиянНазваны плюсы и минусы «Лады Азимут»20 «злых» зданий, будто из фильмов ужасовВ Каменском районе произошло возгорание после атаки БПЛАВ Китае засняли, как робот гуляет с ребенком, пока отец рыбачитРаскрыто хищение алмазов в АЛРОСАИран пригрозил Трампу задействовать «спящие ячейки» в СШАВ секретариате ООН высказались по поводу атаки США на ИранРоссиянам напомнили о праве работодателей увольнять за перерыв\"Настоящий рай\". Прогноз погоды в Москве на сегодня подготовлен НПЦ «Мэп Мейкер».',\n",
       "   'score': 0.7180613,\n",
       "   'raw_content': None},\n",
       "  {'url': 'https://www.gismeteo.ru/weather-moscow-4368/now/',\n",
       "   'title': 'Погода в Москве сейчас - Gismeteo',\n",
       "   'content': 'Погода в Москве сейчас, фактическая погода в населенном пункте Москва, Москва (город федерального значения), Россия.',\n",
       "   'score': 0.66621506,\n",
       "   'raw_content': None}],\n",
       " 'response_time': 1.25}"
      ]
     },
     "execution_count": 1,
     "metadata": {},
     "output_type": "execute_result"
    }
   ],
   "source": [
    "from langchain_community.tools import DuckDuckGoSearchRun\n",
    "# To get more additional information (e.g. link, source) use DuckDuckGoSearchResults()\n",
    "from langchain_community.tools import DuckDuckGoSearchResults\n",
    "from langchain_tavily import TavilySearch\n",
    "\n",
    "# from langchain_core.tools import tool\n",
    "\n",
    "from dotenv import load_dotenv\n",
    "load_dotenv()\n",
    "\n",
    "# @tool\n",
    "def search_tool(query: str) -> TavilySearch:\n",
    "    \"\"\"Search in Internet by TavilySearch for a query and return the results.\"\"\"\n",
    "    search = TavilySearch(\n",
    "        max_results=2,\n",
    "#     # topic=\"general\",\n",
    "#     # include_answer=False,\n",
    "#     # include_raw_content=False,\n",
    "#     # include_images=False,\n",
    "#     # include_image_descriptions=False,\n",
    "#     # search_depth=\"basic\",\n",
    "#     # time_range=\"day\",\n",
    "#     # include_domains=None,\n",
    "#     # exclude_domains=None\n",
    ")\n",
    "    \n",
    "    return search.invoke(query)\n",
    "\n",
    "search_tool(\"Какая погода сегодня в Москве\")  # Example usage\n",
    "\n",
    "\n",
    "# @tool\n",
    "# def search_tool(query: str) -> DuckDuckGoSearchResults:\n",
    "#     \"\"\"Search in Internet  DuckDuckGo for a query and return the results.\"\"\"\n",
    "#     search = DuckDuckGoSearchResults()\n",
    "#     return search.invoke(query)\n",
    "\n",
    "# search_tool(\"Какая погода сегодня в Москве\")  # Example usage\n"
   ]
  },
  {
   "cell_type": "code",
   "execution_count": null,
   "id": "7a1ad77f",
   "metadata": {},
   "outputs": [],
   "source": []
  }
 ],
 "metadata": {
  "kernelspec": {
   "display_name": "llm_agents",
   "language": "python",
   "name": "python3"
  },
  "language_info": {
   "codemirror_mode": {
    "name": "ipython",
    "version": 3
   },
   "file_extension": ".py",
   "mimetype": "text/x-python",
   "name": "python",
   "nbconvert_exporter": "python",
   "pygments_lexer": "ipython3",
   "version": "3.12.11"
  }
 },
 "nbformat": 4,
 "nbformat_minor": 5
}
