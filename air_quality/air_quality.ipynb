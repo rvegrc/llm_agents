{
 "cells": [
  {
   "cell_type": "code",
   "execution_count": 6,
   "id": "7b3d42d1",
   "metadata": {},
   "outputs": [],
   "source": [
    "\n",
    "import logging\n",
    "\n",
    "logging.basicConfig(\n",
    "    level=logging.INFO,\n",
    "    format=\"%(asctime)s [%(levelname)s] %(message)s\",\n",
    "    handlers=[\n",
    "        logging.FileHandler(\"app.log\"),          # File output\n",
    "        logging.StreamHandler()                  # Console output\n",
    "    ],\n",
    "    force=True  # This overrides any prior logging config\n",
    ")\n",
    "\n",
    "import clickhouse_connect\n",
    "import requests\n",
    "import pandas as pd\n",
    "\n",
    "import sys\n",
    "import os\n",
    "\n",
    "from pydantic import BaseModel, Field\n",
    "\n",
    "from typing import List\n",
    "import os\n",
    "import uuid\n",
    "\n",
    "from dotenv import load_dotenv\n",
    "load_dotenv()\n",
    "\n",
    "\n",
    "CLICKHOUSE_USER=os.getenv(\"CLICKHOUSE_USER\")\n",
    "CLICKHOUSE_PASSWORD=os.getenv(\"CLICKHOUSE_PASSWORD\")\n",
    "CH_IP=os.getenv(\"CH_IP\")\n",
    "CH_PORT=os.getenv(\"CH_PORT\")  \n",
    "CLICKHOUSE_DB=os.getenv(\"CLICKHOUSE_DB\") \n",
    "\n",
    "# Initialize ClickHouse client\n",
    "client_ch = clickhouse_connect.get_client(\n",
    "    host=CH_IP,\n",
    "    port=CH_PORT,     \n",
    "    username=CLICKHOUSE_USER,\n",
    "    password=CLICKHOUSE_PASSWORD,\n",
    "    database=CLICKHOUSE_DB\n",
    ")\n",
    "\n",
    "\n",
    "# import tools\n",
    "# Get the parent directory\n",
    "parent_dir = os.path.abspath(os.path.join(os.getcwd(), \"../..\"))\n",
    "\n",
    "# find tools in parent dir\n",
    "if os.path.isdir(os.path.join(parent_dir, 'tools')):\n",
    "    # Add parent directory to sys.path if found\n",
    "    sys.path.append(parent_dir)\n",
    "    \n",
    "else:\n",
    "    # for run in spark\n",
    "    parent_dir = os.path.abspath(os.path.join(os.getcwd(), \"../airflow/airflow_data\"))\n",
    "    \n",
    "    # Add parent directory to sys.path\n",
    "    sys.path.append(parent_dir)\n",
    "\n",
    "\n",
    "from tools import pd_tools\n",
    "from tools.paths import Paths\n",
    "from tools.db_tools import DbTools\n",
    "\n",
    "\n"
   ]
  },
  {
   "cell_type": "code",
   "execution_count": 7,
   "id": "69780dc0",
   "metadata": {},
   "outputs": [
    {
     "data": {
      "application/vnd.microsoft.datawrangler.viewer.v0+json": {
       "columns": [
        {
         "name": "index",
         "rawType": "int64",
         "type": "integer"
        },
        {
         "name": "Unique ID",
         "rawType": "int64",
         "type": "integer"
        },
        {
         "name": "Indicator ID",
         "rawType": "int64",
         "type": "integer"
        },
        {
         "name": "name",
         "rawType": "object",
         "type": "string"
        },
        {
         "name": "Measure",
         "rawType": "object",
         "type": "string"
        },
        {
         "name": "Measure Info",
         "rawType": "object",
         "type": "string"
        },
        {
         "name": "Geo Type Name",
         "rawType": "object",
         "type": "string"
        },
        {
         "name": "Geo Join ID",
         "rawType": "float64",
         "type": "float"
        },
        {
         "name": "Geo Place Name",
         "rawType": "object",
         "type": "string"
        },
        {
         "name": "Time Period",
         "rawType": "object",
         "type": "string"
        },
        {
         "name": "Start_Date",
         "rawType": "object",
         "type": "string"
        },
        {
         "name": "Unnamed: 10",
         "rawType": "float64",
         "type": "float"
        },
        {
         "name": "Data Value",
         "rawType": "object",
         "type": "string"
        }
       ],
       "ref": "b1b6aa8d-6e48-4ded-ac97-f67d5b198695",
       "rows": [
        [
         "0",
         "419355",
         "365",
         "Fine particles (PM 2.5)",
         "Estimated annual rate",
         "per square mile",
         "Citywide",
         "208.0",
         "St. George and Stapleton (CD1)",
         "Summer 2010",
         "12/31/2022",
         null,
         "0"
        ],
        [
         "1",
         "542128",
         "365",
         "Fine particles (PM 2.5)",
         "Estimated annual rate (age 30+)",
         "per 100,000",
         "Borough",
         "404406.0",
         "Northern SI",
         "Summer 2010",
         "12/31/2022",
         null,
         "47"
        ],
        [
         "2",
         "419346",
         "640",
         "Nitrogen dioxide (NO2)",
         "Number per km2",
         "per 100,000",
         "CD",
         "307.0",
         "Fresh Meadows",
         "Summer 2011",
         "31.12.2022",
         null,
         "0"
        ],
        [
         "3",
         "419347",
         "365",
         "Boiler Emissions- Total PM2.5 Emissions",
         "Estimated annual rate (age 30+)",
         "per 100,000 adults",
         "UHF42",
         "305.0",
         "Southeast Queens",
         "Annual Average 2009",
         "31.12.2022",
         null,
         "0"
        ],
        [
         "4",
         "419348",
         "367",
         "Ozone (O3)",
         "Estimated annual rate (age 30+)",
         "ppb",
         "UHF42",
         "105.0",
         "Greenpoint and Williamsburg (CD1)",
         "Annual Average 2011",
         "31.12.2022",
         null,
         "0"
        ]
       ],
       "shape": {
        "columns": 12,
        "rows": 5
       }
      },
      "text/html": [
       "<div>\n",
       "<style scoped>\n",
       "    .dataframe tbody tr th:only-of-type {\n",
       "        vertical-align: middle;\n",
       "    }\n",
       "\n",
       "    .dataframe tbody tr th {\n",
       "        vertical-align: top;\n",
       "    }\n",
       "\n",
       "    .dataframe thead th {\n",
       "        text-align: right;\n",
       "    }\n",
       "</style>\n",
       "<table border=\"1\" class=\"dataframe\">\n",
       "  <thead>\n",
       "    <tr style=\"text-align: right;\">\n",
       "      <th></th>\n",
       "      <th>Unique ID</th>\n",
       "      <th>Indicator ID</th>\n",
       "      <th>name</th>\n",
       "      <th>Measure</th>\n",
       "      <th>Measure Info</th>\n",
       "      <th>Geo Type Name</th>\n",
       "      <th>Geo Join ID</th>\n",
       "      <th>Geo Place Name</th>\n",
       "      <th>Time Period</th>\n",
       "      <th>Start_Date</th>\n",
       "      <th>Unnamed: 10</th>\n",
       "      <th>Data Value</th>\n",
       "    </tr>\n",
       "  </thead>\n",
       "  <tbody>\n",
       "    <tr>\n",
       "      <th>0</th>\n",
       "      <td>419355</td>\n",
       "      <td>365</td>\n",
       "      <td>Fine particles (PM 2.5)</td>\n",
       "      <td>Estimated annual rate</td>\n",
       "      <td>per square mile</td>\n",
       "      <td>Citywide</td>\n",
       "      <td>208.0</td>\n",
       "      <td>St. George and Stapleton (CD1)</td>\n",
       "      <td>Summer 2010</td>\n",
       "      <td>12/31/2022</td>\n",
       "      <td>NaN</td>\n",
       "      <td>0</td>\n",
       "    </tr>\n",
       "    <tr>\n",
       "      <th>1</th>\n",
       "      <td>542128</td>\n",
       "      <td>365</td>\n",
       "      <td>Fine particles (PM 2.5)</td>\n",
       "      <td>Estimated annual rate (age 30+)</td>\n",
       "      <td>per 100,000</td>\n",
       "      <td>Borough</td>\n",
       "      <td>404406.0</td>\n",
       "      <td>Northern SI</td>\n",
       "      <td>Summer 2010</td>\n",
       "      <td>12/31/2022</td>\n",
       "      <td>NaN</td>\n",
       "      <td>47</td>\n",
       "    </tr>\n",
       "    <tr>\n",
       "      <th>2</th>\n",
       "      <td>419346</td>\n",
       "      <td>640</td>\n",
       "      <td>Nitrogen dioxide (NO2)</td>\n",
       "      <td>Number per km2</td>\n",
       "      <td>per 100,000</td>\n",
       "      <td>CD</td>\n",
       "      <td>307.0</td>\n",
       "      <td>Fresh Meadows</td>\n",
       "      <td>Summer 2011</td>\n",
       "      <td>31.12.2022</td>\n",
       "      <td>NaN</td>\n",
       "      <td>0</td>\n",
       "    </tr>\n",
       "    <tr>\n",
       "      <th>3</th>\n",
       "      <td>419347</td>\n",
       "      <td>365</td>\n",
       "      <td>Boiler Emissions- Total PM2.5 Emissions</td>\n",
       "      <td>Estimated annual rate (age 30+)</td>\n",
       "      <td>per 100,000 adults</td>\n",
       "      <td>UHF42</td>\n",
       "      <td>305.0</td>\n",
       "      <td>Southeast Queens</td>\n",
       "      <td>Annual Average 2009</td>\n",
       "      <td>31.12.2022</td>\n",
       "      <td>NaN</td>\n",
       "      <td>0</td>\n",
       "    </tr>\n",
       "    <tr>\n",
       "      <th>4</th>\n",
       "      <td>419348</td>\n",
       "      <td>367</td>\n",
       "      <td>Ozone (O3)</td>\n",
       "      <td>Estimated annual rate (age 30+)</td>\n",
       "      <td>ppb</td>\n",
       "      <td>UHF42</td>\n",
       "      <td>105.0</td>\n",
       "      <td>Greenpoint and Williamsburg (CD1)</td>\n",
       "      <td>Annual Average 2011</td>\n",
       "      <td>31.12.2022</td>\n",
       "      <td>NaN</td>\n",
       "      <td>0</td>\n",
       "    </tr>\n",
       "  </tbody>\n",
       "</table>\n",
       "</div>"
      ],
      "text/plain": [
       "   Unique ID  Indicator ID                                     name  \\\n",
       "0     419355           365                  Fine particles (PM 2.5)   \n",
       "1     542128           365                  Fine particles (PM 2.5)   \n",
       "2     419346           640                   Nitrogen dioxide (NO2)   \n",
       "3     419347           365  Boiler Emissions- Total PM2.5 Emissions   \n",
       "4     419348           367                               Ozone (O3)   \n",
       "\n",
       "                           Measure        Measure Info Geo Type Name  \\\n",
       "0            Estimated annual rate     per square mile      Citywide   \n",
       "1  Estimated annual rate (age 30+)         per 100,000       Borough   \n",
       "2                   Number per km2         per 100,000            CD   \n",
       "3  Estimated annual rate (age 30+)  per 100,000 adults         UHF42   \n",
       "4  Estimated annual rate (age 30+)                 ppb         UHF42   \n",
       "\n",
       "   Geo Join ID                     Geo Place Name          Time Period  \\\n",
       "0        208.0     St. George and Stapleton (CD1)          Summer 2010   \n",
       "1     404406.0                        Northern SI          Summer 2010   \n",
       "2        307.0                      Fresh Meadows          Summer 2011   \n",
       "3        305.0                   Southeast Queens  Annual Average 2009   \n",
       "4        105.0  Greenpoint and Williamsburg (CD1)  Annual Average 2011   \n",
       "\n",
       "   Start_Date  Unnamed: 10 Data Value  \n",
       "0  12/31/2022          NaN          0  \n",
       "1  12/31/2022          NaN         47  \n",
       "2  31.12.2022          NaN          0  \n",
       "3  31.12.2022          NaN          0  \n",
       "4  31.12.2022          NaN          0  "
      ]
     },
     "execution_count": 7,
     "metadata": {},
     "output_type": "execute_result"
    }
   ],
   "source": [
    "air_quality = pd.read_csv('data/Air_Quality.csv')\n",
    "air_quality.head()"
   ]
  },
  {
   "cell_type": "code",
   "execution_count": 9,
   "id": "7f507187",
   "metadata": {},
   "outputs": [
    {
     "name": "stdout",
     "output_type": "stream",
     "text": [
      "<class 'pandas.core.frame.DataFrame'>\n",
      "RangeIndex: 134788 entries, 0 to 134787\n",
      "Data columns (total 12 columns):\n",
      " #   Column          Non-Null Count   Dtype  \n",
      "---  ------          --------------   -----  \n",
      " 0   Unique ID       134788 non-null  int64  \n",
      " 1   Indicator ID    134788 non-null  int64  \n",
      " 2   name            134788 non-null  object \n",
      " 3   Measure         134788 non-null  object \n",
      " 4   Measure Info    134788 non-null  object \n",
      " 5   Geo Type Name   134788 non-null  object \n",
      " 6   Geo Join ID     134779 non-null  float64\n",
      " 7   Geo Place Name  134779 non-null  object \n",
      " 8   Time Period     134788 non-null  object \n",
      " 9   Start_Date      134788 non-null  object \n",
      " 10  Unnamed: 10     0 non-null       float64\n",
      " 11  Data Value      134788 non-null  object \n",
      "dtypes: float64(2), int64(2), object(8)\n",
      "memory usage: 12.3+ MB\n"
     ]
    }
   ],
   "source": [
    "air_quality.info()"
   ]
  },
  {
   "cell_type": "code",
   "execution_count": 10,
   "id": "e0b6a948",
   "metadata": {},
   "outputs": [],
   "source": [
    "air_quality = air_quality.drop(columns='Unnamed: 10')"
   ]
  },
  {
   "cell_type": "code",
   "execution_count": 11,
   "id": "d33a1ab3",
   "metadata": {},
   "outputs": [
    {
     "name": "stdout",
     "output_type": "stream",
     "text": [
      "<class 'pandas.core.frame.DataFrame'>\n",
      "RangeIndex: 134788 entries, 0 to 134787\n",
      "Data columns (total 11 columns):\n",
      " #   Column          Non-Null Count   Dtype  \n",
      "---  ------          --------------   -----  \n",
      " 0   Unique ID       134788 non-null  int64  \n",
      " 1   Indicator ID    134788 non-null  int64  \n",
      " 2   name            134788 non-null  object \n",
      " 3   Measure         134788 non-null  object \n",
      " 4   Measure Info    134788 non-null  object \n",
      " 5   Geo Type Name   134788 non-null  object \n",
      " 6   Geo Join ID     134779 non-null  float64\n",
      " 7   Geo Place Name  134779 non-null  object \n",
      " 8   Time Period     134788 non-null  object \n",
      " 9   Start_Date      134788 non-null  object \n",
      " 10  Data Value      134788 non-null  object \n",
      "dtypes: float64(1), int64(2), object(8)\n",
      "memory usage: 11.3+ MB\n",
      "None\n"
     ]
    },
    {
     "data": {
      "text/plain": [
       "'First 5 rows in df'"
      ]
     },
     "metadata": {},
     "output_type": "display_data"
    },
    {
     "data": {
      "application/vnd.microsoft.datawrangler.viewer.v0+json": {
       "columns": [
        {
         "name": "index",
         "rawType": "int64",
         "type": "integer"
        },
        {
         "name": "Unique ID",
         "rawType": "int64",
         "type": "integer"
        },
        {
         "name": "Indicator ID",
         "rawType": "int64",
         "type": "integer"
        },
        {
         "name": "name",
         "rawType": "object",
         "type": "string"
        },
        {
         "name": "Measure",
         "rawType": "object",
         "type": "string"
        },
        {
         "name": "Measure Info",
         "rawType": "object",
         "type": "string"
        },
        {
         "name": "Geo Type Name",
         "rawType": "object",
         "type": "string"
        },
        {
         "name": "Geo Join ID",
         "rawType": "float64",
         "type": "float"
        },
        {
         "name": "Geo Place Name",
         "rawType": "object",
         "type": "string"
        },
        {
         "name": "Time Period",
         "rawType": "object",
         "type": "string"
        },
        {
         "name": "Start_Date",
         "rawType": "object",
         "type": "string"
        },
        {
         "name": "Data Value",
         "rawType": "object",
         "type": "string"
        }
       ],
       "ref": "b7678a03-32bf-424b-bc8f-d070e28e8562",
       "rows": [
        [
         "0",
         "419355",
         "365",
         "Fine particles (PM 2.5)",
         "Estimated annual rate",
         "per square mile",
         "Citywide",
         "208.0",
         "St. George and Stapleton (CD1)",
         "Summer 2010",
         "12/31/2022",
         "0"
        ],
        [
         "1",
         "542128",
         "365",
         "Fine particles (PM 2.5)",
         "Estimated annual rate (age 30+)",
         "per 100,000",
         "Borough",
         "404406.0",
         "Northern SI",
         "Summer 2010",
         "12/31/2022",
         "47"
        ],
        [
         "2",
         "419346",
         "640",
         "Nitrogen dioxide (NO2)",
         "Number per km2",
         "per 100,000",
         "CD",
         "307.0",
         "Fresh Meadows",
         "Summer 2011",
         "31.12.2022",
         "0"
        ],
        [
         "3",
         "419347",
         "365",
         "Boiler Emissions- Total PM2.5 Emissions",
         "Estimated annual rate (age 30+)",
         "per 100,000 adults",
         "UHF42",
         "305.0",
         "Southeast Queens",
         "Annual Average 2009",
         "31.12.2022",
         "0"
        ],
        [
         "4",
         "419348",
         "367",
         "Ozone (O3)",
         "Estimated annual rate (age 30+)",
         "ppb",
         "UHF42",
         "105.0",
         "Greenpoint and Williamsburg (CD1)",
         "Annual Average 2011",
         "31.12.2022",
         "0"
        ]
       ],
       "shape": {
        "columns": 11,
        "rows": 5
       }
      },
      "text/html": [
       "<div>\n",
       "<style scoped>\n",
       "    .dataframe tbody tr th:only-of-type {\n",
       "        vertical-align: middle;\n",
       "    }\n",
       "\n",
       "    .dataframe tbody tr th {\n",
       "        vertical-align: top;\n",
       "    }\n",
       "\n",
       "    .dataframe thead th {\n",
       "        text-align: right;\n",
       "    }\n",
       "</style>\n",
       "<table border=\"1\" class=\"dataframe\">\n",
       "  <thead>\n",
       "    <tr style=\"text-align: right;\">\n",
       "      <th></th>\n",
       "      <th>Unique ID</th>\n",
       "      <th>Indicator ID</th>\n",
       "      <th>name</th>\n",
       "      <th>Measure</th>\n",
       "      <th>Measure Info</th>\n",
       "      <th>Geo Type Name</th>\n",
       "      <th>Geo Join ID</th>\n",
       "      <th>Geo Place Name</th>\n",
       "      <th>Time Period</th>\n",
       "      <th>Start_Date</th>\n",
       "      <th>Data Value</th>\n",
       "    </tr>\n",
       "  </thead>\n",
       "  <tbody>\n",
       "    <tr>\n",
       "      <th>0</th>\n",
       "      <td>419355</td>\n",
       "      <td>365</td>\n",
       "      <td>Fine particles (PM 2.5)</td>\n",
       "      <td>Estimated annual rate</td>\n",
       "      <td>per square mile</td>\n",
       "      <td>Citywide</td>\n",
       "      <td>208.0</td>\n",
       "      <td>St. George and Stapleton (CD1)</td>\n",
       "      <td>Summer 2010</td>\n",
       "      <td>12/31/2022</td>\n",
       "      <td>0</td>\n",
       "    </tr>\n",
       "    <tr>\n",
       "      <th>1</th>\n",
       "      <td>542128</td>\n",
       "      <td>365</td>\n",
       "      <td>Fine particles (PM 2.5)</td>\n",
       "      <td>Estimated annual rate (age 30+)</td>\n",
       "      <td>per 100,000</td>\n",
       "      <td>Borough</td>\n",
       "      <td>404406.0</td>\n",
       "      <td>Northern SI</td>\n",
       "      <td>Summer 2010</td>\n",
       "      <td>12/31/2022</td>\n",
       "      <td>47</td>\n",
       "    </tr>\n",
       "    <tr>\n",
       "      <th>2</th>\n",
       "      <td>419346</td>\n",
       "      <td>640</td>\n",
       "      <td>Nitrogen dioxide (NO2)</td>\n",
       "      <td>Number per km2</td>\n",
       "      <td>per 100,000</td>\n",
       "      <td>CD</td>\n",
       "      <td>307.0</td>\n",
       "      <td>Fresh Meadows</td>\n",
       "      <td>Summer 2011</td>\n",
       "      <td>31.12.2022</td>\n",
       "      <td>0</td>\n",
       "    </tr>\n",
       "    <tr>\n",
       "      <th>3</th>\n",
       "      <td>419347</td>\n",
       "      <td>365</td>\n",
       "      <td>Boiler Emissions- Total PM2.5 Emissions</td>\n",
       "      <td>Estimated annual rate (age 30+)</td>\n",
       "      <td>per 100,000 adults</td>\n",
       "      <td>UHF42</td>\n",
       "      <td>305.0</td>\n",
       "      <td>Southeast Queens</td>\n",
       "      <td>Annual Average 2009</td>\n",
       "      <td>31.12.2022</td>\n",
       "      <td>0</td>\n",
       "    </tr>\n",
       "    <tr>\n",
       "      <th>4</th>\n",
       "      <td>419348</td>\n",
       "      <td>367</td>\n",
       "      <td>Ozone (O3)</td>\n",
       "      <td>Estimated annual rate (age 30+)</td>\n",
       "      <td>ppb</td>\n",
       "      <td>UHF42</td>\n",
       "      <td>105.0</td>\n",
       "      <td>Greenpoint and Williamsburg (CD1)</td>\n",
       "      <td>Annual Average 2011</td>\n",
       "      <td>31.12.2022</td>\n",
       "      <td>0</td>\n",
       "    </tr>\n",
       "  </tbody>\n",
       "</table>\n",
       "</div>"
      ],
      "text/plain": [
       "   Unique ID  Indicator ID                                     name  \\\n",
       "0     419355           365                  Fine particles (PM 2.5)   \n",
       "1     542128           365                  Fine particles (PM 2.5)   \n",
       "2     419346           640                   Nitrogen dioxide (NO2)   \n",
       "3     419347           365  Boiler Emissions- Total PM2.5 Emissions   \n",
       "4     419348           367                               Ozone (O3)   \n",
       "\n",
       "                           Measure        Measure Info Geo Type Name  \\\n",
       "0            Estimated annual rate     per square mile      Citywide   \n",
       "1  Estimated annual rate (age 30+)         per 100,000       Borough   \n",
       "2                   Number per km2         per 100,000            CD   \n",
       "3  Estimated annual rate (age 30+)  per 100,000 adults         UHF42   \n",
       "4  Estimated annual rate (age 30+)                 ppb         UHF42   \n",
       "\n",
       "   Geo Join ID                     Geo Place Name          Time Period  \\\n",
       "0        208.0     St. George and Stapleton (CD1)          Summer 2010   \n",
       "1     404406.0                        Northern SI          Summer 2010   \n",
       "2        307.0                      Fresh Meadows          Summer 2011   \n",
       "3        305.0                   Southeast Queens  Annual Average 2009   \n",
       "4        105.0  Greenpoint and Williamsburg (CD1)  Annual Average 2011   \n",
       "\n",
       "   Start_Date Data Value  \n",
       "0  12/31/2022          0  \n",
       "1  12/31/2022         47  \n",
       "2  31.12.2022          0  \n",
       "3  31.12.2022          0  \n",
       "4  31.12.2022          0  "
      ]
     },
     "metadata": {},
     "output_type": "display_data"
    },
    {
     "name": "stdout",
     "output_type": "stream",
     "text": [
      "Column Unique ID has only one type: <class 'int'>\n",
      "Column Indicator ID has only one type: <class 'int'>\n",
      "Column name has only one type: <class 'str'>\n",
      "Column Measure has only one type: <class 'str'>\n",
      "Column Measure Info has only one type: <class 'str'>\n",
      "Column Geo Type Name has only one type: <class 'str'>\n",
      "Column Geo Join ID has only one type: <class 'float'>\n",
      "Column Geo Place Name has only one type: <class 'str'>\n",
      "Column Time Period has only one type: <class 'str'>\n",
      "Column Start_Date has only one type: <class 'str'>\n",
      "Column Data Value has only one type: <class 'str'>\n"
     ]
    },
    {
     "data": {
      "application/vnd.microsoft.datawrangler.viewer.v0+json": {
       "columns": [
        {
         "name": "index",
         "rawType": "object",
         "type": "string"
        },
        {
         "name": "duplicates_full",
         "rawType": "int64",
         "type": "integer"
        }
       ],
       "ref": "e7d9bb8f-eaa1-4573-8cf0-df639887477e",
       "rows": [
        [
         "duplicates_full",
         "0"
        ]
       ],
       "shape": {
        "columns": 1,
        "rows": 1
       }
      },
      "text/html": [
       "<div>\n",
       "<style scoped>\n",
       "    .dataframe tbody tr th:only-of-type {\n",
       "        vertical-align: middle;\n",
       "    }\n",
       "\n",
       "    .dataframe tbody tr th {\n",
       "        vertical-align: top;\n",
       "    }\n",
       "\n",
       "    .dataframe thead th {\n",
       "        text-align: right;\n",
       "    }\n",
       "</style>\n",
       "<table border=\"1\" class=\"dataframe\">\n",
       "  <thead>\n",
       "    <tr style=\"text-align: right;\">\n",
       "      <th></th>\n",
       "      <th>duplicates_full</th>\n",
       "    </tr>\n",
       "  </thead>\n",
       "  <tbody>\n",
       "    <tr>\n",
       "      <th>duplicates_full</th>\n",
       "      <td>0</td>\n",
       "    </tr>\n",
       "  </tbody>\n",
       "</table>\n",
       "</div>"
      ],
      "text/plain": [
       "                 duplicates_full\n",
       "duplicates_full                0"
      ]
     },
     "metadata": {},
     "output_type": "display_data"
    },
    {
     "data": {
      "application/vnd.microsoft.datawrangler.viewer.v0+json": {
       "columns": [
        {
         "name": "index",
         "rawType": "object",
         "type": "string"
        },
        {
         "name": "Unique ID",
         "rawType": "int64",
         "type": "integer"
        },
        {
         "name": "Indicator ID",
         "rawType": "int64",
         "type": "integer"
        },
        {
         "name": "name",
         "rawType": "int64",
         "type": "integer"
        },
        {
         "name": "Measure",
         "rawType": "int64",
         "type": "integer"
        },
        {
         "name": "Measure Info",
         "rawType": "int64",
         "type": "integer"
        },
        {
         "name": "Geo Type Name",
         "rawType": "int64",
         "type": "integer"
        },
        {
         "name": "Geo Join ID",
         "rawType": "int64",
         "type": "integer"
        },
        {
         "name": "Geo Place Name",
         "rawType": "int64",
         "type": "integer"
        },
        {
         "name": "Time Period",
         "rawType": "int64",
         "type": "integer"
        },
        {
         "name": "Start_Date",
         "rawType": "int64",
         "type": "integer"
        },
        {
         "name": "Data Value",
         "rawType": "int64",
         "type": "integer"
        }
       ],
       "ref": "4b75168a-80e4-4fcb-8b55-e3c27b6ea901",
       "rows": [
        [
         "duplicates_by_cols",
         "0",
         "134765",
         "134770",
         "134780",
         "134779",
         "134783",
         "134707",
         "134664",
         "134732",
         "128817",
         "134424"
        ]
       ],
       "shape": {
        "columns": 11,
        "rows": 1
       }
      },
      "text/html": [
       "<div>\n",
       "<style scoped>\n",
       "    .dataframe tbody tr th:only-of-type {\n",
       "        vertical-align: middle;\n",
       "    }\n",
       "\n",
       "    .dataframe tbody tr th {\n",
       "        vertical-align: top;\n",
       "    }\n",
       "\n",
       "    .dataframe thead th {\n",
       "        text-align: right;\n",
       "    }\n",
       "</style>\n",
       "<table border=\"1\" class=\"dataframe\">\n",
       "  <thead>\n",
       "    <tr style=\"text-align: right;\">\n",
       "      <th></th>\n",
       "      <th>Unique ID</th>\n",
       "      <th>Indicator ID</th>\n",
       "      <th>name</th>\n",
       "      <th>Measure</th>\n",
       "      <th>Measure Info</th>\n",
       "      <th>Geo Type Name</th>\n",
       "      <th>Geo Join ID</th>\n",
       "      <th>Geo Place Name</th>\n",
       "      <th>Time Period</th>\n",
       "      <th>Start_Date</th>\n",
       "      <th>Data Value</th>\n",
       "    </tr>\n",
       "  </thead>\n",
       "  <tbody>\n",
       "    <tr>\n",
       "      <th>duplicates_by_cols</th>\n",
       "      <td>0</td>\n",
       "      <td>134765</td>\n",
       "      <td>134770</td>\n",
       "      <td>134780</td>\n",
       "      <td>134779</td>\n",
       "      <td>134783</td>\n",
       "      <td>134707</td>\n",
       "      <td>134664</td>\n",
       "      <td>134732</td>\n",
       "      <td>128817</td>\n",
       "      <td>134424</td>\n",
       "    </tr>\n",
       "  </tbody>\n",
       "</table>\n",
       "</div>"
      ],
      "text/plain": [
       "                    Unique ID  Indicator ID    name  Measure  Measure Info  \\\n",
       "duplicates_by_cols          0        134765  134770   134780        134779   \n",
       "\n",
       "                    Geo Type Name  Geo Join ID  Geo Place Name  Time Period  \\\n",
       "duplicates_by_cols         134783       134707          134664       134732   \n",
       "\n",
       "                    Start_Date  Data Value  \n",
       "duplicates_by_cols      128817      134424  "
      ]
     },
     "metadata": {},
     "output_type": "display_data"
    },
    {
     "data": {
      "application/vnd.microsoft.datawrangler.viewer.v0+json": {
       "columns": [
        {
         "name": "index",
         "rawType": "object",
         "type": "string"
        }
       ],
       "ref": "cd4f637a-9048-41cd-972c-2dec73b690a2",
       "rows": [
        [
         "zeroes"
        ]
       ],
       "shape": {
        "columns": 0,
        "rows": 1
       }
      },
      "text/html": [
       "<div>\n",
       "<style scoped>\n",
       "    .dataframe tbody tr th:only-of-type {\n",
       "        vertical-align: middle;\n",
       "    }\n",
       "\n",
       "    .dataframe tbody tr th {\n",
       "        vertical-align: top;\n",
       "    }\n",
       "\n",
       "    .dataframe thead th {\n",
       "        text-align: right;\n",
       "    }\n",
       "</style>\n",
       "<table border=\"1\" class=\"dataframe\">\n",
       "  <thead>\n",
       "    <tr style=\"text-align: right;\">\n",
       "      <th></th>\n",
       "    </tr>\n",
       "  </thead>\n",
       "  <tbody>\n",
       "    <tr>\n",
       "      <th>zeroes</th>\n",
       "    </tr>\n",
       "  </tbody>\n",
       "</table>\n",
       "</div>"
      ],
      "text/plain": [
       "Empty DataFrame\n",
       "Columns: []\n",
       "Index: [zeroes]"
      ]
     },
     "metadata": {},
     "output_type": "display_data"
    },
    {
     "data": {
      "application/vnd.microsoft.datawrangler.viewer.v0+json": {
       "columns": [
        {
         "name": "index",
         "rawType": "object",
         "type": "string"
        }
       ],
       "ref": "e7c505f3-35a5-4c4d-8fe8-76c7d3b15163",
       "rows": [
        [
         "minus_ones"
        ]
       ],
       "shape": {
        "columns": 0,
        "rows": 1
       }
      },
      "text/html": [
       "<div>\n",
       "<style scoped>\n",
       "    .dataframe tbody tr th:only-of-type {\n",
       "        vertical-align: middle;\n",
       "    }\n",
       "\n",
       "    .dataframe tbody tr th {\n",
       "        vertical-align: top;\n",
       "    }\n",
       "\n",
       "    .dataframe thead th {\n",
       "        text-align: right;\n",
       "    }\n",
       "</style>\n",
       "<table border=\"1\" class=\"dataframe\">\n",
       "  <thead>\n",
       "    <tr style=\"text-align: right;\">\n",
       "      <th></th>\n",
       "    </tr>\n",
       "  </thead>\n",
       "  <tbody>\n",
       "    <tr>\n",
       "      <th>minus_ones</th>\n",
       "    </tr>\n",
       "  </tbody>\n",
       "</table>\n",
       "</div>"
      ],
      "text/plain": [
       "Empty DataFrame\n",
       "Columns: []\n",
       "Index: [minus_ones]"
      ]
     },
     "metadata": {},
     "output_type": "display_data"
    },
    {
     "data": {
      "application/vnd.microsoft.datawrangler.viewer.v0+json": {
       "columns": [
        {
         "name": "index",
         "rawType": "object",
         "type": "string"
        },
        {
         "name": "Geo Join ID",
         "rawType": "int64",
         "type": "integer"
        },
        {
         "name": "Geo Place Name",
         "rawType": "int64",
         "type": "integer"
        }
       ],
       "ref": "5f1e2223-3b24-4cb3-bf39-bb4c8723c649",
       "rows": [
        [
         "nulls",
         "9",
         "9"
        ]
       ],
       "shape": {
        "columns": 2,
        "rows": 1
       }
      },
      "text/html": [
       "<div>\n",
       "<style scoped>\n",
       "    .dataframe tbody tr th:only-of-type {\n",
       "        vertical-align: middle;\n",
       "    }\n",
       "\n",
       "    .dataframe tbody tr th {\n",
       "        vertical-align: top;\n",
       "    }\n",
       "\n",
       "    .dataframe thead th {\n",
       "        text-align: right;\n",
       "    }\n",
       "</style>\n",
       "<table border=\"1\" class=\"dataframe\">\n",
       "  <thead>\n",
       "    <tr style=\"text-align: right;\">\n",
       "      <th></th>\n",
       "      <th>Geo Join ID</th>\n",
       "      <th>Geo Place Name</th>\n",
       "    </tr>\n",
       "  </thead>\n",
       "  <tbody>\n",
       "    <tr>\n",
       "      <th>nulls</th>\n",
       "      <td>9</td>\n",
       "      <td>9</td>\n",
       "    </tr>\n",
       "  </tbody>\n",
       "</table>\n",
       "</div>"
      ],
      "text/plain": [
       "       Geo Join ID  Geo Place Name\n",
       "nulls            9               9"
      ]
     },
     "metadata": {},
     "output_type": "display_data"
    },
    {
     "data": {
      "application/vnd.microsoft.datawrangler.viewer.v0+json": {
       "columns": [
        {
         "name": "index",
         "rawType": "object",
         "type": "string"
        },
        {
         "name": "Geo Join ID",
         "rawType": "int64",
         "type": "integer"
        },
        {
         "name": "Geo Place Name",
         "rawType": "int64",
         "type": "integer"
        }
       ],
       "ref": "afef29d0-d3da-4f6c-b4a3-b9073c0d4855",
       "rows": [
        [
         "nans",
         "9",
         "9"
        ]
       ],
       "shape": {
        "columns": 2,
        "rows": 1
       }
      },
      "text/html": [
       "<div>\n",
       "<style scoped>\n",
       "    .dataframe tbody tr th:only-of-type {\n",
       "        vertical-align: middle;\n",
       "    }\n",
       "\n",
       "    .dataframe tbody tr th {\n",
       "        vertical-align: top;\n",
       "    }\n",
       "\n",
       "    .dataframe thead th {\n",
       "        text-align: right;\n",
       "    }\n",
       "</style>\n",
       "<table border=\"1\" class=\"dataframe\">\n",
       "  <thead>\n",
       "    <tr style=\"text-align: right;\">\n",
       "      <th></th>\n",
       "      <th>Geo Join ID</th>\n",
       "      <th>Geo Place Name</th>\n",
       "    </tr>\n",
       "  </thead>\n",
       "  <tbody>\n",
       "    <tr>\n",
       "      <th>nans</th>\n",
       "      <td>9</td>\n",
       "      <td>9</td>\n",
       "    </tr>\n",
       "  </tbody>\n",
       "</table>\n",
       "</div>"
      ],
      "text/plain": [
       "      Geo Join ID  Geo Place Name\n",
       "nans            9               9"
      ]
     },
     "metadata": {},
     "output_type": "display_data"
    },
    {
     "data": {
      "application/vnd.microsoft.datawrangler.viewer.v0+json": {
       "columns": [
        {
         "name": "index",
         "rawType": "object",
         "type": "string"
        }
       ],
       "ref": "08556ac3-c27c-413d-846e-43c2141c03c8",
       "rows": [
        [
         "nones"
        ]
       ],
       "shape": {
        "columns": 0,
        "rows": 1
       }
      },
      "text/html": [
       "<div>\n",
       "<style scoped>\n",
       "    .dataframe tbody tr th:only-of-type {\n",
       "        vertical-align: middle;\n",
       "    }\n",
       "\n",
       "    .dataframe tbody tr th {\n",
       "        vertical-align: top;\n",
       "    }\n",
       "\n",
       "    .dataframe thead th {\n",
       "        text-align: right;\n",
       "    }\n",
       "</style>\n",
       "<table border=\"1\" class=\"dataframe\">\n",
       "  <thead>\n",
       "    <tr style=\"text-align: right;\">\n",
       "      <th></th>\n",
       "    </tr>\n",
       "  </thead>\n",
       "  <tbody>\n",
       "    <tr>\n",
       "      <th>nones</th>\n",
       "    </tr>\n",
       "  </tbody>\n",
       "</table>\n",
       "</div>"
      ],
      "text/plain": [
       "Empty DataFrame\n",
       "Columns: []\n",
       "Index: [nones]"
      ]
     },
     "metadata": {},
     "output_type": "display_data"
    },
    {
     "data": {
      "application/vnd.microsoft.datawrangler.viewer.v0+json": {
       "columns": [
        {
         "name": "index",
         "rawType": "object",
         "type": "string"
        }
       ],
       "ref": "9653e53d-31b4-4d5d-b38d-8ebdb30dc584",
       "rows": [
        [
         "NA placeholder"
        ]
       ],
       "shape": {
        "columns": 0,
        "rows": 1
       }
      },
      "text/html": [
       "<div>\n",
       "<style scoped>\n",
       "    .dataframe tbody tr th:only-of-type {\n",
       "        vertical-align: middle;\n",
       "    }\n",
       "\n",
       "    .dataframe tbody tr th {\n",
       "        vertical-align: top;\n",
       "    }\n",
       "\n",
       "    .dataframe thead th {\n",
       "        text-align: right;\n",
       "    }\n",
       "</style>\n",
       "<table border=\"1\" class=\"dataframe\">\n",
       "  <thead>\n",
       "    <tr style=\"text-align: right;\">\n",
       "      <th></th>\n",
       "    </tr>\n",
       "  </thead>\n",
       "  <tbody>\n",
       "    <tr>\n",
       "      <th>NA placeholder</th>\n",
       "    </tr>\n",
       "  </tbody>\n",
       "</table>\n",
       "</div>"
      ],
      "text/plain": [
       "Empty DataFrame\n",
       "Columns: []\n",
       "Index: [NA placeholder]"
      ]
     },
     "metadata": {},
     "output_type": "display_data"
    },
    {
     "data": {
      "application/vnd.microsoft.datawrangler.viewer.v0+json": {
       "columns": [
        {
         "name": "index",
         "rawType": "object",
         "type": "string"
        }
       ],
       "ref": "07f89d1f-d38a-4594-9fd5-efa2175f33d1",
       "rows": [
        [
         "null placeholder"
        ]
       ],
       "shape": {
        "columns": 0,
        "rows": 1
       }
      },
      "text/html": [
       "<div>\n",
       "<style scoped>\n",
       "    .dataframe tbody tr th:only-of-type {\n",
       "        vertical-align: middle;\n",
       "    }\n",
       "\n",
       "    .dataframe tbody tr th {\n",
       "        vertical-align: top;\n",
       "    }\n",
       "\n",
       "    .dataframe thead th {\n",
       "        text-align: right;\n",
       "    }\n",
       "</style>\n",
       "<table border=\"1\" class=\"dataframe\">\n",
       "  <thead>\n",
       "    <tr style=\"text-align: right;\">\n",
       "      <th></th>\n",
       "    </tr>\n",
       "  </thead>\n",
       "  <tbody>\n",
       "    <tr>\n",
       "      <th>null placeholder</th>\n",
       "    </tr>\n",
       "  </tbody>\n",
       "</table>\n",
       "</div>"
      ],
      "text/plain": [
       "Empty DataFrame\n",
       "Columns: []\n",
       "Index: [null placeholder]"
      ]
     },
     "metadata": {},
     "output_type": "display_data"
    },
    {
     "data": {
      "application/vnd.microsoft.datawrangler.viewer.v0+json": {
       "columns": [
        {
         "name": "index",
         "rawType": "object",
         "type": "string"
        }
       ],
       "ref": "e4da319a-07b5-4cb2-a4d0-bea7b5aab008",
       "rows": [
        [
         "N/A placeholder"
        ]
       ],
       "shape": {
        "columns": 0,
        "rows": 1
       }
      },
      "text/html": [
       "<div>\n",
       "<style scoped>\n",
       "    .dataframe tbody tr th:only-of-type {\n",
       "        vertical-align: middle;\n",
       "    }\n",
       "\n",
       "    .dataframe tbody tr th {\n",
       "        vertical-align: top;\n",
       "    }\n",
       "\n",
       "    .dataframe thead th {\n",
       "        text-align: right;\n",
       "    }\n",
       "</style>\n",
       "<table border=\"1\" class=\"dataframe\">\n",
       "  <thead>\n",
       "    <tr style=\"text-align: right;\">\n",
       "      <th></th>\n",
       "    </tr>\n",
       "  </thead>\n",
       "  <tbody>\n",
       "    <tr>\n",
       "      <th>N/A placeholder</th>\n",
       "    </tr>\n",
       "  </tbody>\n",
       "</table>\n",
       "</div>"
      ],
      "text/plain": [
       "Empty DataFrame\n",
       "Columns: []\n",
       "Index: [N/A placeholder]"
      ]
     },
     "metadata": {},
     "output_type": "display_data"
    },
    {
     "data": {
      "application/vnd.microsoft.datawrangler.viewer.v0+json": {
       "columns": [
        {
         "name": "index",
         "rawType": "int64",
         "type": "integer"
        }
       ],
       "ref": "7043c115-98d4-4b74-9a00-340597077d43",
       "rows": [],
       "shape": {
        "columns": 0,
        "rows": 0
       }
      },
      "text/html": [
       "<div>\n",
       "<style scoped>\n",
       "    .dataframe tbody tr th:only-of-type {\n",
       "        vertical-align: middle;\n",
       "    }\n",
       "\n",
       "    .dataframe tbody tr th {\n",
       "        vertical-align: top;\n",
       "    }\n",
       "\n",
       "    .dataframe thead th {\n",
       "        text-align: right;\n",
       "    }\n",
       "</style>\n",
       "<table border=\"1\" class=\"dataframe\">\n",
       "  <thead>\n",
       "    <tr style=\"text-align: right;\">\n",
       "      <th></th>\n",
       "    </tr>\n",
       "  </thead>\n",
       "  <tbody>\n",
       "  </tbody>\n",
       "</table>\n",
       "</div>"
      ],
      "text/plain": [
       "Empty DataFrame\n",
       "Columns: []\n",
       "Index: []"
      ]
     },
     "metadata": {},
     "output_type": "display_data"
    }
   ],
   "source": [
    "pd_tools.df_info(air_quality)"
   ]
  }
 ],
 "metadata": {
  "kernelspec": {
   "display_name": "llm_agents",
   "language": "python",
   "name": "python3"
  },
  "language_info": {
   "codemirror_mode": {
    "name": "ipython",
    "version": 3
   },
   "file_extension": ".py",
   "mimetype": "text/x-python",
   "name": "python",
   "nbconvert_exporter": "python",
   "pygments_lexer": "ipython3",
   "version": "3.12.11"
  }
 },
 "nbformat": 4,
 "nbformat_minor": 5
}
