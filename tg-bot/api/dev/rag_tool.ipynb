{
 "cells": [
  {
   "cell_type": "code",
   "execution_count": 7,
   "id": "1d16a0ff",
   "metadata": {},
   "outputs": [
    {
     "name": "stdout",
     "output_type": "stream",
     "text": [
      "collections=[CollectionDescription(name='recall_memories')]\n"
     ]
    }
   ],
   "source": [
    "from qdrant_client import QdrantClient\n",
    "from langchain_qdrant import QdrantVectorStore\n",
    "from langchain_huggingface import HuggingFaceEmbeddings\n",
    "from sentence_transformers import SentenceTransformer\n",
    "from langchain_core.documents import Document\n",
    "from langchain_core.runnables import Runnable, RunnablePassthrough, chain, RunnableConfig\n",
    "\n",
    "from pydantic import BaseModel, Field\n",
    "\n",
    "from typing import List\n",
    "import os\n",
    "import uuid\n",
    "\n",
    "from dotenv import load_dotenv\n",
    "load_dotenv()\n",
    "\n",
    "QDRANT_URL = os.getenv(\"QDRANT_URL\")\n",
    "\n",
    "# api key in env variable QDRANT__SERVICE__API_KEY\n",
    "client_qd = QdrantClient(url=QDRANT_URL)\n",
    "\n",
    "# Test connection\n",
    "collections = client_qd.get_collections()\n",
    "print(collections)\n"
   ]
  },
  {
   "cell_type": "code",
   "execution_count": null,
   "id": "7d5ecc5b",
   "metadata": {},
   "outputs": [],
   "source": [
    "# for deploy models use from vllm server\n",
    "emb_model_name = '../../../../models/Qwen/Qwen3-Embedding-0.6B'\n",
    "embeddings = HuggingFaceEmbeddings(model_name=emb_model_name)"
   ]
  },
  {
   "cell_type": "code",
   "execution_count": 4,
   "id": "f99b5679",
   "metadata": {},
   "outputs": [],
   "source": [
    "def add_qd_collection(\n",
    "        documents: List[Document], \n",
    "        embeddings: HuggingFaceEmbeddings,\n",
    "        client_qd: QdrantClient, \n",
    "        collection_name: str, \n",
    "        distance: str = \"Cosine\"\n",
    "    ) -> None:\n",
    "    \n",
    "    ''' Add documents to a Qdrant collection. Creates the collection if it does not exist. Use HuggingFaceEmbeddings for embeddings.'''\n",
    "        \n",
    "    embedding_dim = SentenceTransformer(embeddings.model_name).get_sentence_embedding_dimension()\n",
    "\n",
    "    # Create collection if it doesn't exist\n",
    "    if not client_qd.collection_exists(collection_name):\n",
    "        client_qd.create_collection(\n",
    "            collection_name=collection_name,\n",
    "            vectors_config={\n",
    "                \"vector\": {\n",
    "                    \"size\": embedding_dim,\n",
    "                    \"distance\": distance,\n",
    "                }\n",
    "            },\n",
    "        )\n",
    "\n",
    "\n",
    "    # Initialize vector store\n",
    "    qdrant = QdrantVectorStore(\n",
    "        client=client_qd,\n",
    "        collection_name=collection_name,\n",
    "        embedding=embeddings,\n",
    "        vector_name=\"vector\"\n",
    "    )\n",
    "\n",
    "    # Add documents to the collection\n",
    "    qdrant.add_documents(documents=documents)\n",
    "\n",
    "def del_qd_collection(\n",
    "        client_qd: QdrantClient, \n",
    "        collection_name: str\n",
    "    ) -> None:\n",
    "    \n",
    "    ''' Drop a Qdrant collection if it exists. '''\n",
    "    \n",
    "    if client_qd.collection_exists(collection_name):\n",
    "        client_qd.delete_collection(collection_name)\n",
    "        print(f\"Collection '{collection_name}' deleted.\")\n",
    "    else:\n",
    "        print(f\"Collection '{collection_name}' does not exist.\")"
   ]
  },
  {
   "cell_type": "code",
   "execution_count": null,
   "id": "2f655627",
   "metadata": {},
   "outputs": [],
   "source": [
    "# create a vector store for recall if it does not exist\n",
    "\n",
    "\n",
    "distance = \"Cosine\"  \n",
    "collection_name = 'recall_memories'\n",
    "\n",
    "def rag_tool(\n",
    "        client_qd: QdrantClient, \n",
    "        collection_name: str, \n",
    "        embeddings: HuggingFaceEmbeddings, \n",
    "        distance: str = \"Cosine\"\n",
    "    ) -> QdrantVectorStore:\n",
    "    \n",
    "    ''' Initialize a vector store for recall memory. '''\n",
    "    \n",
    "    # Check if the collection exists\n",
    "    if not client_qd.collection_exists(collection_name):\n",
    "        add_qd_collection(\n",
    "            documents=[],  # Start with an empty list, will add later\n",
    "            embeddings=embeddings,\n",
    "            client_qd=client_qd,\n",
    "            collection_name=collection_name,\n",
    "            distance=distance\n",
    "        )\n",
    "\n",
    "    return QdrantVectorStore(\n",
    "        client=client_qd,\n",
    "        collection_name=collection_name,\n",
    "        embedding=embeddings,\n",
    "        vector_name=\"vector\"\n",
    "    )\n"
   ]
  },
  {
   "cell_type": "code",
   "execution_count": null,
   "id": "959398ec",
   "metadata": {},
   "outputs": [],
   "source": []
  }
 ],
 "metadata": {
  "kernelspec": {
   "display_name": "llm_agents",
   "language": "python",
   "name": "python3"
  },
  "language_info": {
   "codemirror_mode": {
    "name": "ipython",
    "version": 3
   },
   "file_extension": ".py",
   "mimetype": "text/x-python",
   "name": "python",
   "nbconvert_exporter": "python",
   "pygments_lexer": "ipython3",
   "version": "3.12.11"
  }
 },
 "nbformat": 4,
 "nbformat_minor": 5
}
