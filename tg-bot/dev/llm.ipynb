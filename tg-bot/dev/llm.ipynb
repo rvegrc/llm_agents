{
 "cells": [
  {
   "cell_type": "code",
   "execution_count": 1,
   "id": "1b3d108c",
   "metadata": {},
   "outputs": [
    {
     "name": "stdout",
     "output_type": "stream",
     "text": [
      "<think>\n",
      "Okay, so I need to figure out the capital of Japan. Let me start by recalling what I know about capitals. The capital is usually the largest city in a country and it's also where the government is located. For countries with multiple cities, sometimes there are two main capitals.\n",
      "\n",
      "I think about Brazil first because it's often mentioned as one of the bigger capitals. They have Rio de Janeiro and Curitiba, but I'm not sure which one is the capital. Maybe it's Rio? I've heard that some people prefer Rio for its proximity to the sea, so maybe that's why it's considered a main capital.\n",
      "\n",
      "Then there's Japan. I remember hearing about Tokyo as the capital before 2019. But wait, in 2019, they changed it to Osaka. That must have been a big decision by the government. So, does the current capital of Japan still use the old name? I'm not sure if the city names change every few years or if there's a more permanent one.\n",
      "\n",
      "I should also think about any other capitals that might be nearby. For example, maybe Osaka is closer to Tokyo and some parts of Japan. But since it changed to Osaka in 2019, I don't think\n"
     ]
    }
   ],
   "source": [
    "import requests\n",
    "import os\n",
    "from dotenv import load_dotenv\n",
    "load_dotenv()\n",
    "\n",
    "LLM_API_SERVER_URL = os.getenv(\"LLM_API_SERVER_URL\")\n",
    "\n",
    "model = \"deepseek-r1:1.5b\"\n",
    "\n",
    "\n",
    "def llm_chat_tool(messages):\n",
    "    response = requests.post(\n",
    "        url=LLM_API_SERVER_URL,\n",
    "        headers={\"Content-Type\": \"application/json\"},\n",
    "        json={\n",
    "            \"model\": model,\n",
    "            \"messages\": messages,\n",
    "            \"temperature\": 0.5,\n",
    "            \"max_tokens\": 256\n",
    "        }\n",
    "    )\n",
    "    return response.json()[\"choices\"][0][\"message\"][\"content\"]\n",
    "\n",
    "# Example usage\n",
    "messages = [\n",
    "    {\"role\": \"system\", \"content\": \"You are a helpful assistant.\"},\n",
    "    {\"role\": \"user\", \"content\": \"What's the capital of Japan?\"}\n",
    "]\n",
    "\n",
    "output = llm_chat_tool(messages)\n",
    "print(output)"
   ]
  },
  {
   "cell_type": "code",
   "execution_count": null,
   "id": "21d17aa2",
   "metadata": {},
   "outputs": [],
   "source": [
    "# from langchain_ollama.llms import OllamaLLM\n",
    "\n",
    "# llm = OllamaLLM(\n",
    "#     model=\"qwen3:0.6B\",\n",
    "#     base_url=\"http://localhost:21434\",  # Explicitly set the Ollama server URL  # P\n",
    "#     n_ctx=2048,           # Context window size\n",
    "#     n_gpu_layers=0,      # Number of GPU layers (set to 0 for CPU-only)\n",
    "#     temperature=0.7,      # Creativity control\n",
    "#     max_tokens=200,       # Max tokens to generate\n",
    "#     verbose=True          # Print debug info\n",
    "# )\n",
    "\n",
    "# response = llm.invoke(\"Что такое эгрегор?\")  # Example query\n",
    "# print(response)\n"
   ]
  },
  {
   "cell_type": "code",
   "execution_count": null,
   "id": "6b11f3dc",
   "metadata": {},
   "outputs": [],
   "source": []
  }
 ],
 "metadata": {
  "kernelspec": {
   "display_name": "llm_agents",
   "language": "python",
   "name": "python3"
  },
  "language_info": {
   "codemirror_mode": {
    "name": "ipython",
    "version": 3
   },
   "file_extension": ".py",
   "mimetype": "text/x-python",
   "name": "python",
   "nbconvert_exporter": "python",
   "pygments_lexer": "ipython3",
   "version": "3.12.11"
  }
 },
 "nbformat": 4,
 "nbformat_minor": 5
}
