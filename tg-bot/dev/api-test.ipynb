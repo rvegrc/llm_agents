{
 "cells": [
  {
   "cell_type": "code",
   "execution_count": 20,
   "id": "29d2e168",
   "metadata": {},
   "outputs": [
    {
     "name": "stdout",
     "output_type": "stream",
     "text": [
      "API Health Check: 200 {\"status\":\"ok\"}\n"
     ]
    }
   ],
   "source": [
    "import secrets\n",
    "import string\n",
    "import json\n",
    "import requests\n",
    "from pprint import pprint\n",
    "\n",
    "\n",
    "# set api url\n",
    "# api_url = 'https://example.com/generate' # for dev server\n",
    "api_url = 'http://localhost:8000' # for local testing\n",
    "\n",
    "LLM_API_SERVER_URL = 'http://localhost:11434'  # Ollama server URL\n",
    "\n",
    "endpoint = '/health'\n",
    "response = requests.get(f'{api_url}{endpoint}')\n",
    "\n",
    "print(\"API Health Check:\", response.status_code, response.text)"
   ]
  },
  {
   "cell_type": "markdown",
   "id": "2d822e57",
   "metadata": {},
   "source": [
    "## Function to pull models from ollama server"
   ]
  },
  {
   "cell_type": "code",
   "execution_count": null,
   "id": "31d3b8fd",
   "metadata": {},
   "outputs": [],
   "source": [
    "# for simple pull from terminal\n",
    "\n",
    "# curl http://localhost:11434/api/pull -d '{\n",
    "#   \"name\": \"deepseek-r1:1.5b\"\n",
    "# }'\n"
   ]
  },
  {
   "cell_type": "code",
   "execution_count": 13,
   "id": "3c1734ab",
   "metadata": {},
   "outputs": [],
   "source": [
    "def pull_ollama_model(model_name: str) -> None:\n",
    "    \"\"\"\n",
    "    Pulls a model to the Ollama server.\n",
    "    \n",
    "    Args:\n",
    "        model_name (str): The name of the model to pull.\n",
    "        \n",
    "    Returns:\n",
    "        dict: The response from the Ollama server if model is successfully pulled.\n",
    "    \"\"\"\n",
    "    url = f\"{LLM_API_SERVER_URL}/api/pull\"\n",
    "    payload = {\n",
    "    \"name\": model_name\n",
    "    }\n",
    "    headers = {\n",
    "        \"Content-Type\": \"application/json\"\n",
    "    }\n",
    "\n",
    "    response = requests.post(url, json=payload, headers=headers)\n",
    "\n",
    "    print(\"Status code:\", response.status_code)\n",
    "    print(\"Response:\", response.text)"
   ]
  },
  {
   "cell_type": "code",
   "execution_count": 14,
   "id": "4c8e6f44",
   "metadata": {},
   "outputs": [
    {
     "name": "stdout",
     "output_type": "stream",
     "text": [
      "Status code: 200\n",
      "Response: {\"status\":\"pulling manifest\"}\n",
      "{\"status\":\"pulling 3e4cb1417446\",\"digest\":\"sha256:3e4cb14174460404e7a233e531675303b2fbf7749c02f91864fe311ab6344e4f\",\"total\":2497280480,\"completed\":2497280480}\n",
      "{\"status\":\"pulling 53e4ea15e8f5\",\"digest\":\"sha256:53e4ea15e8f5f17f5052c5ef6aef5f79b4266708c93e7c893dbe4b3e211a815d\",\"total\":1493,\"completed\":1493}\n",
      "{\"status\":\"pulling d18a5cc71b84\",\"digest\":\"sha256:d18a5cc71b84bc4af394a31116bd3932b42241de70c77d2b76d69a314ec8aa12\",\"total\":11338,\"completed\":11338}\n",
      "{\"status\":\"pulling cff3f395ef37\",\"digest\":\"sha256:cff3f395ef3756ab63e58b0ad1b32bb6f802905cae1472e6a12034e4246fbbdb\",\"total\":120,\"completed\":120}\n",
      "{\"status\":\"pulling e18a783aae55\",\"digest\":\"sha256:e18a783aae5525fd2852fc94c985541a77e791e034abc2d3056474d59de336fc\",\"total\":487,\"completed\":487}\n",
      "{\"status\":\"verifying sha256 digest\"}\n",
      "{\"status\":\"writing manifest\"}\n",
      "{\"status\":\"success\"}\n",
      "\n"
     ]
    }
   ],
   "source": [
    "pull_ollama_model(\"qwen3:4b\")"
   ]
  },
  {
   "cell_type": "markdown",
   "id": "af2f7170",
   "metadata": {},
   "source": [
    "## Test API key"
   ]
  },
  {
   "cell_type": "code",
   "execution_count": null,
   "id": "1c8ee5ca",
   "metadata": {},
   "outputs": [],
   "source": [
    "# get api key from db\n",
    "# api_keys = client.query_df(f'''select ak.api_key from {dev_db}.api_keys ak''')\n",
    "# api_key_0 = api_keys['api_key'].iloc[0]\n",
    "\n",
    "# test api key\n",
    "params = {\n",
    "    'api_key': api_key_0,\n",
    "}\n",
    "response = requests.get(f'{api_url}/test_secure_endpoint', params=params)\n",
    "print(response.status_code, response.text)"
   ]
  },
  {
   "cell_type": "markdown",
   "id": "8e483715",
   "metadata": {},
   "source": [
    "## Test LLM"
   ]
  },
  {
   "cell_type": "code",
   "execution_count": 23,
   "id": "c7cd912d",
   "metadata": {},
   "outputs": [],
   "source": [
    "# def for test llm\n",
    "def test_llm(prompt: str, user_id: str, thread_id: str) -> None:\n",
    "    api_url = \"http://localhost:8000\"\n",
    "    endpoint = \"/generate\"\n",
    "    headers = {\n",
    "        \"Content-Type\": \"application/json\"\n",
    "    }\n",
    "    payload = {\n",
    "        \"prompt\": prompt,\n",
    "        \"user_id\": user_id,\n",
    "        \"thread_id\": thread_id\n",
    "    }\n",
    "    response = requests.post(f'{api_url}{endpoint}', json=payload, headers=headers)\n",
    "    print(\"Status code:\", response.status_code)\n",
    "    print(\"Response:\", pprint(response.json().get(\"generated_text\", \"\")))"
   ]
  },
  {
   "cell_type": "code",
   "execution_count": 19,
   "id": "c38b6dc9",
   "metadata": {},
   "outputs": [
    {
     "name": "stdout",
     "output_type": "stream",
     "text": [
      "Status code: 200\n",
      "Response: {\"generated_text\":\"Сегодня в Пекине:  \\n**Утро** — +27°C, малооблачно, ощущается как 32°C.  \\n**День** — +33°C, ясно, ощущается как 36°C.  \\n**Вечер** — +30°C, пасмурно, ощущается как 31°C.  \\n\\nЕсли нужно, могу предоставить более подробную информацию или прогноз на завтра. 😊\"}\n"
     ]
    }
   ],
   "source": [
    "test_llm(\"Какая погода сегодня в Пекине\", \"123\", \"123\")"
   ]
  },
  {
   "cell_type": "code",
   "execution_count": 22,
   "id": "bd2694c5",
   "metadata": {},
   "outputs": [
    {
     "name": "stdout",
     "output_type": "stream",
     "text": [
      "Status code: 200\n",
      "('{\"generated_text\":\"Согласно最新预报, завтра в России будет 30°С с ветром 3 м/с. '\n",
      " 'Погода предполагает комфортные условия, с небольшой вероятностью осадков. '\n",
      " 'Если вам нужна более детальная информация или вы хотите узнать прогноз для '\n",
      " 'другого региона, дайте знать! ☀️\"}')\n",
      "Response: None\n"
     ]
    }
   ],
   "source": [
    "test_llm(\"А завтра какая погода?\", \"123\", \"123\")"
   ]
  }
 ],
 "metadata": {
  "kernelspec": {
   "display_name": "llm_agents",
   "language": "python",
   "name": "python3"
  },
  "language_info": {
   "codemirror_mode": {
    "name": "ipython",
    "version": 3
   },
   "file_extension": ".py",
   "mimetype": "text/x-python",
   "name": "python",
   "nbconvert_exporter": "python",
   "pygments_lexer": "ipython3",
   "version": "3.12.11"
  }
 },
 "nbformat": 4,
 "nbformat_minor": 5
}
