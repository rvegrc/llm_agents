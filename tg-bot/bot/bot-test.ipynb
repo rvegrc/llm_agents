{
 "cells": [
  {
   "cell_type": "code",
   "execution_count": 4,
   "id": "5c6e93b7",
   "metadata": {},
   "outputs": [],
   "source": [
    "import os\n",
    "from aiogram import Bot, Dispatcher, types\n",
    "from aiogram.filters import Command\n",
    "import requests\n",
    "\n",
    "from dotenv import load_dotenv\n",
    "\n",
    "load_dotenv()\n",
    "\n",
    "\n",
    "# from langgraph_agent import build_agent\n",
    "\n",
    "TELEGRAM_TOKEN = os.getenv(\"TELEGRAM_TOKEN\")\n",
    "API_URL = os.getenv(\"API_URL\")"
   ]
  },
  {
   "cell_type": "code",
   "execution_count": 5,
   "id": "1c38356d",
   "metadata": {},
   "outputs": [],
   "source": [
    "# for test only all beckend from API\n",
    "LLM_API_SERVER_URL = os.getenv(\"LLM_API_SERVER_URL\")\n",
    "\n",
    "\n",
    "def llm_chat_tool(messages):\n",
    "    response = requests.post(\n",
    "        url=LLM_API_SERVER_URL,\n",
    "        headers={\"Content-Type\": \"application/json\"},\n",
    "        json={\n",
    "            \"model\": \"qwen3:0.6b\",\n",
    "            \"messages\": messages,\n",
    "            \"temperature\": 0.5,\n",
    "            \"max_tokens\": 256\n",
    "        }\n",
    "    )\n",
    "    return response.json()[\"choices\"][0][\"message\"][\"content\"]"
   ]
  },
  {
   "cell_type": "code",
   "execution_count": 6,
   "id": "29d8b4dc",
   "metadata": {},
   "outputs": [
    {
     "data": {
      "text/plain": [
       "<coroutine object Dispatcher.start_polling at 0x75ee4144c700>"
      ]
     },
     "execution_count": 6,
     "metadata": {},
     "output_type": "execute_result"
    }
   ],
   "source": [
    "\n",
    "bot = Bot(token=TELEGRAM_TOKEN)\n",
    "dp = Dispatcher()\n",
    "\n",
    "@dp.message(Command(\"start\"))\n",
    "async def start(message: types.Message):\n",
    "    await message.answer(\"Отправь волшебное слово '???' после /start чтобы получить доступ к боту.\")\n",
    "\n",
    "@dp.message(Command(\"start\", \"начали\"))\n",
    "async def access(message: types.Message):\n",
    "    await message.answer(\"Добро пожаловать! Теперь вы можете отправлять мне текст, и я сгенерирую ответ.\")\n",
    "\n",
    "@dp.message()\n",
    "async def generate_text(message: types.Message):\n",
    "    try:\n",
    "        # response = requests.post(API_URL, json={\"prompt\": message.text})\n",
    "        # await message.answer(response.json()[\"generated_text\"])\n",
    "        response = llm_chat_tool([{\"role\": \"user\", \"content\": message.text}])\n",
    "        await message.answer(response)\n",
    "    except Exception as e:\n",
    "        await message.answer(\"Ошибка: \" + str(e))\n",
    "\n",
    "dp.start_polling(bot)"
   ]
  }
 ],
 "metadata": {
  "kernelspec": {
   "display_name": "llm_agents",
   "language": "python",
   "name": "python3"
  },
  "language_info": {
   "codemirror_mode": {
    "name": "ipython",
    "version": 3
   },
   "file_extension": ".py",
   "mimetype": "text/x-python",
   "name": "python",
   "nbconvert_exporter": "python",
   "pygments_lexer": "ipython3",
   "version": "3.12.11"
  }
 },
 "nbformat": 4,
 "nbformat_minor": 5
}
