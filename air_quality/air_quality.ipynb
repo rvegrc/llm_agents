{
 "cells": [
  {
   "cell_type": "markdown",
   "id": "72e28fee",
   "metadata": {},
   "source": [
    "## Import libs"
   ]
  },
  {
   "cell_type": "code",
   "execution_count": 1,
   "id": "7b3d42d1",
   "metadata": {},
   "outputs": [],
   "source": [
    "\n",
    "import logging\n",
    "\n",
    "logging.basicConfig(\n",
    "    level=logging.INFO,\n",
    "    format=\"%(asctime)s [%(levelname)s] %(message)s\",\n",
    "    handlers=[\n",
    "        logging.FileHandler(\"app.log\"),          # File output\n",
    "        logging.StreamHandler()                  # Console output\n",
    "    ],\n",
    "    force=True  # This overrides any prior logging config\n",
    ")\n",
    "\n",
    "import clickhouse_connect\n",
    "import requests\n",
    "import pandas as pd\n",
    "import dateutil\n",
    "\n",
    "\n",
    "import sys\n",
    "import os\n",
    "\n",
    "from pydantic import BaseModel, Field\n",
    "\n",
    "from typing import List\n",
    "import os\n",
    "import uuid\n",
    "\n",
    "from dotenv import load_dotenv\n",
    "load_dotenv()\n",
    "\n",
    "\n",
    "CLICKHOUSE_USER=os.getenv(\"CLICKHOUSE_USER\")\n",
    "CLICKHOUSE_PASSWORD=os.getenv(\"CLICKHOUSE_PASSWORD\")\n",
    "CH_IP=os.getenv(\"CH_IP\")\n",
    "CH_PORT=os.getenv(\"CH_PORT\")  \n",
    "CLICKHOUSE_DB=os.getenv(\"CLICKHOUSE_DB\") \n",
    "\n",
    "# Initialize ClickHouse client\n",
    "client_ch = clickhouse_connect.get_client(\n",
    "    host=CH_IP,\n",
    "    port=CH_PORT,     \n",
    "    username=CLICKHOUSE_USER,\n",
    "    password=CLICKHOUSE_PASSWORD,\n",
    "    database=CLICKHOUSE_DB\n",
    ")\n",
    "\n",
    "\n",
    "# import tools\n",
    "# Get the parent directory\n",
    "parent_dir = os.path.abspath(os.path.join(os.getcwd(), \"../..\"))\n",
    "\n",
    "# find tools in parent dir\n",
    "if os.path.isdir(os.path.join(parent_dir, 'tools')):\n",
    "    # Add parent directory to sys.path if found\n",
    "    sys.path.append(parent_dir)\n",
    "    \n",
    "else:\n",
    "    # for run in spark\n",
    "    parent_dir = os.path.abspath(os.path.join(os.getcwd(), \"../airflow/airflow_data\"))\n",
    "    \n",
    "    # Add parent directory to sys.path\n",
    "    sys.path.append(parent_dir)\n",
    "\n",
    "\n",
    "from tools import pd_tools\n",
    "from tools.paths import Paths\n",
    "from tools.db_tools import DbTools\n",
    "\n",
    "data_path = 'data'\n",
    "tmp_path = 'tmp'\n",
    "\n",
    "db_tools = DbTools(data_path, tmp_path, client_ch)"
   ]
  },
  {
   "cell_type": "markdown",
   "id": "d1115bd3",
   "metadata": {},
   "source": [
    "Вам предоставлена таблица air_quality с данными о качестве воздуха в различных районах города. База содержит информацию об измерениях различных загрязнителей воздуха (PM2.5, NO2, O3 и др.) и связанных с ними показателях.\n",
    "\n",
    "Структура таблицы air_quality\n",
    "    - 1. Name - название показателя (PM2.5, NO2, O3 и др.)\n",
    "    - 2. Geo_Place_Name - место измерения\n",
    "    - 3. Start_Date - дата измерения\n",
    "    - 4. Data_Value - измеренное значение"
   ]
  },
  {
   "cell_type": "code",
   "execution_count": 37,
   "id": "69780dc0",
   "metadata": {},
   "outputs": [
    {
     "data": {
      "application/vnd.microsoft.datawrangler.viewer.v0+json": {
       "columns": [
        {
         "name": "index",
         "rawType": "int64",
         "type": "integer"
        },
        {
         "name": "Unique ID",
         "rawType": "int64",
         "type": "integer"
        },
        {
         "name": "Indicator ID",
         "rawType": "int64",
         "type": "integer"
        },
        {
         "name": "name",
         "rawType": "object",
         "type": "string"
        },
        {
         "name": "Measure",
         "rawType": "object",
         "type": "string"
        },
        {
         "name": "Measure Info",
         "rawType": "object",
         "type": "string"
        },
        {
         "name": "Geo Type Name",
         "rawType": "object",
         "type": "string"
        },
        {
         "name": "Geo Join ID",
         "rawType": "float64",
         "type": "float"
        },
        {
         "name": "Geo Place Name",
         "rawType": "object",
         "type": "string"
        },
        {
         "name": "Time Period",
         "rawType": "object",
         "type": "string"
        },
        {
         "name": "Start_Date",
         "rawType": "object",
         "type": "string"
        },
        {
         "name": "Unnamed: 10",
         "rawType": "float64",
         "type": "float"
        },
        {
         "name": "Data Value",
         "rawType": "object",
         "type": "string"
        }
       ],
       "ref": "ffbb1511-07f5-47f3-8db3-32400b286bc4",
       "rows": [
        [
         "0",
         "419355",
         "365",
         "Fine particles (PM 2.5)",
         "Estimated annual rate",
         "per square mile",
         "Citywide",
         "208.0",
         "St. George and Stapleton (CD1)",
         "Summer 2010",
         "12/31/2022",
         null,
         "0"
        ],
        [
         "1",
         "542128",
         "365",
         "Fine particles (PM 2.5)",
         "Estimated annual rate (age 30+)",
         "per 100,000",
         "Borough",
         "404406.0",
         "Northern SI",
         "Summer 2010",
         "12/31/2022",
         null,
         "47"
        ],
        [
         "2",
         "419346",
         "640",
         "Nitrogen dioxide (NO2)",
         "Number per km2",
         "per 100,000",
         "CD",
         "307.0",
         "Fresh Meadows",
         "Summer 2011",
         "31.12.2022",
         null,
         "0"
        ],
        [
         "3",
         "419347",
         "365",
         "Boiler Emissions- Total PM2.5 Emissions",
         "Estimated annual rate (age 30+)",
         "per 100,000 adults",
         "UHF42",
         "305.0",
         "Southeast Queens",
         "Annual Average 2009",
         "31.12.2022",
         null,
         "0"
        ],
        [
         "4",
         "419348",
         "367",
         "Ozone (O3)",
         "Estimated annual rate (age 30+)",
         "ppb",
         "UHF42",
         "105.0",
         "Greenpoint and Williamsburg (CD1)",
         "Annual Average 2011",
         "31.12.2022",
         null,
         "0"
        ]
       ],
       "shape": {
        "columns": 12,
        "rows": 5
       }
      },
      "text/html": [
       "<div>\n",
       "<style scoped>\n",
       "    .dataframe tbody tr th:only-of-type {\n",
       "        vertical-align: middle;\n",
       "    }\n",
       "\n",
       "    .dataframe tbody tr th {\n",
       "        vertical-align: top;\n",
       "    }\n",
       "\n",
       "    .dataframe thead th {\n",
       "        text-align: right;\n",
       "    }\n",
       "</style>\n",
       "<table border=\"1\" class=\"dataframe\">\n",
       "  <thead>\n",
       "    <tr style=\"text-align: right;\">\n",
       "      <th></th>\n",
       "      <th>Unique ID</th>\n",
       "      <th>Indicator ID</th>\n",
       "      <th>name</th>\n",
       "      <th>Measure</th>\n",
       "      <th>Measure Info</th>\n",
       "      <th>Geo Type Name</th>\n",
       "      <th>Geo Join ID</th>\n",
       "      <th>Geo Place Name</th>\n",
       "      <th>Time Period</th>\n",
       "      <th>Start_Date</th>\n",
       "      <th>Unnamed: 10</th>\n",
       "      <th>Data Value</th>\n",
       "    </tr>\n",
       "  </thead>\n",
       "  <tbody>\n",
       "    <tr>\n",
       "      <th>0</th>\n",
       "      <td>419355</td>\n",
       "      <td>365</td>\n",
       "      <td>Fine particles (PM 2.5)</td>\n",
       "      <td>Estimated annual rate</td>\n",
       "      <td>per square mile</td>\n",
       "      <td>Citywide</td>\n",
       "      <td>208.0</td>\n",
       "      <td>St. George and Stapleton (CD1)</td>\n",
       "      <td>Summer 2010</td>\n",
       "      <td>12/31/2022</td>\n",
       "      <td>NaN</td>\n",
       "      <td>0</td>\n",
       "    </tr>\n",
       "    <tr>\n",
       "      <th>1</th>\n",
       "      <td>542128</td>\n",
       "      <td>365</td>\n",
       "      <td>Fine particles (PM 2.5)</td>\n",
       "      <td>Estimated annual rate (age 30+)</td>\n",
       "      <td>per 100,000</td>\n",
       "      <td>Borough</td>\n",
       "      <td>404406.0</td>\n",
       "      <td>Northern SI</td>\n",
       "      <td>Summer 2010</td>\n",
       "      <td>12/31/2022</td>\n",
       "      <td>NaN</td>\n",
       "      <td>47</td>\n",
       "    </tr>\n",
       "    <tr>\n",
       "      <th>2</th>\n",
       "      <td>419346</td>\n",
       "      <td>640</td>\n",
       "      <td>Nitrogen dioxide (NO2)</td>\n",
       "      <td>Number per km2</td>\n",
       "      <td>per 100,000</td>\n",
       "      <td>CD</td>\n",
       "      <td>307.0</td>\n",
       "      <td>Fresh Meadows</td>\n",
       "      <td>Summer 2011</td>\n",
       "      <td>31.12.2022</td>\n",
       "      <td>NaN</td>\n",
       "      <td>0</td>\n",
       "    </tr>\n",
       "    <tr>\n",
       "      <th>3</th>\n",
       "      <td>419347</td>\n",
       "      <td>365</td>\n",
       "      <td>Boiler Emissions- Total PM2.5 Emissions</td>\n",
       "      <td>Estimated annual rate (age 30+)</td>\n",
       "      <td>per 100,000 adults</td>\n",
       "      <td>UHF42</td>\n",
       "      <td>305.0</td>\n",
       "      <td>Southeast Queens</td>\n",
       "      <td>Annual Average 2009</td>\n",
       "      <td>31.12.2022</td>\n",
       "      <td>NaN</td>\n",
       "      <td>0</td>\n",
       "    </tr>\n",
       "    <tr>\n",
       "      <th>4</th>\n",
       "      <td>419348</td>\n",
       "      <td>367</td>\n",
       "      <td>Ozone (O3)</td>\n",
       "      <td>Estimated annual rate (age 30+)</td>\n",
       "      <td>ppb</td>\n",
       "      <td>UHF42</td>\n",
       "      <td>105.0</td>\n",
       "      <td>Greenpoint and Williamsburg (CD1)</td>\n",
       "      <td>Annual Average 2011</td>\n",
       "      <td>31.12.2022</td>\n",
       "      <td>NaN</td>\n",
       "      <td>0</td>\n",
       "    </tr>\n",
       "  </tbody>\n",
       "</table>\n",
       "</div>"
      ],
      "text/plain": [
       "   Unique ID  Indicator ID                                     name  \\\n",
       "0     419355           365                  Fine particles (PM 2.5)   \n",
       "1     542128           365                  Fine particles (PM 2.5)   \n",
       "2     419346           640                   Nitrogen dioxide (NO2)   \n",
       "3     419347           365  Boiler Emissions- Total PM2.5 Emissions   \n",
       "4     419348           367                               Ozone (O3)   \n",
       "\n",
       "                           Measure        Measure Info Geo Type Name  \\\n",
       "0            Estimated annual rate     per square mile      Citywide   \n",
       "1  Estimated annual rate (age 30+)         per 100,000       Borough   \n",
       "2                   Number per km2         per 100,000            CD   \n",
       "3  Estimated annual rate (age 30+)  per 100,000 adults         UHF42   \n",
       "4  Estimated annual rate (age 30+)                 ppb         UHF42   \n",
       "\n",
       "   Geo Join ID                     Geo Place Name          Time Period  \\\n",
       "0        208.0     St. George and Stapleton (CD1)          Summer 2010   \n",
       "1     404406.0                        Northern SI          Summer 2010   \n",
       "2        307.0                      Fresh Meadows          Summer 2011   \n",
       "3        305.0                   Southeast Queens  Annual Average 2009   \n",
       "4        105.0  Greenpoint and Williamsburg (CD1)  Annual Average 2011   \n",
       "\n",
       "   Start_Date  Unnamed: 10 Data Value  \n",
       "0  12/31/2022          NaN          0  \n",
       "1  12/31/2022          NaN         47  \n",
       "2  31.12.2022          NaN          0  \n",
       "3  31.12.2022          NaN          0  \n",
       "4  31.12.2022          NaN          0  "
      ]
     },
     "execution_count": 37,
     "metadata": {},
     "output_type": "execute_result"
    }
   ],
   "source": [
    "air_quality = pd.read_csv('data/Air_Quality.csv')\n",
    "air_quality.head()"
   ]
  },
  {
   "cell_type": "markdown",
   "id": "b76d4112",
   "metadata": {},
   "source": [
    "## Data analyze"
   ]
  },
  {
   "cell_type": "code",
   "execution_count": 9,
   "id": "7f507187",
   "metadata": {},
   "outputs": [
    {
     "name": "stdout",
     "output_type": "stream",
     "text": [
      "<class 'pandas.core.frame.DataFrame'>\n",
      "RangeIndex: 134788 entries, 0 to 134787\n",
      "Data columns (total 12 columns):\n",
      " #   Column          Non-Null Count   Dtype  \n",
      "---  ------          --------------   -----  \n",
      " 0   Unique ID       134788 non-null  int64  \n",
      " 1   Indicator ID    134788 non-null  int64  \n",
      " 2   name            134788 non-null  object \n",
      " 3   Measure         134788 non-null  object \n",
      " 4   Measure Info    134788 non-null  object \n",
      " 5   Geo Type Name   134788 non-null  object \n",
      " 6   Geo Join ID     134779 non-null  float64\n",
      " 7   Geo Place Name  134779 non-null  object \n",
      " 8   Time Period     134788 non-null  object \n",
      " 9   Start_Date      134788 non-null  object \n",
      " 10  Unnamed: 10     0 non-null       float64\n",
      " 11  Data Value      134788 non-null  object \n",
      "dtypes: float64(2), int64(2), object(8)\n",
      "memory usage: 12.3+ MB\n"
     ]
    }
   ],
   "source": [
    "air_quality.info()"
   ]
  },
  {
   "cell_type": "code",
   "execution_count": 39,
   "id": "e0b6a948",
   "metadata": {},
   "outputs": [],
   "source": [
    "air_quality = air_quality.drop(columns='Unnamed: 10')"
   ]
  },
  {
   "cell_type": "code",
   "execution_count": 11,
   "id": "d33a1ab3",
   "metadata": {},
   "outputs": [
    {
     "name": "stdout",
     "output_type": "stream",
     "text": [
      "<class 'pandas.core.frame.DataFrame'>\n",
      "RangeIndex: 134788 entries, 0 to 134787\n",
      "Data columns (total 11 columns):\n",
      " #   Column          Non-Null Count   Dtype  \n",
      "---  ------          --------------   -----  \n",
      " 0   Unique ID       134788 non-null  int64  \n",
      " 1   Indicator ID    134788 non-null  int64  \n",
      " 2   name            134788 non-null  object \n",
      " 3   Measure         134788 non-null  object \n",
      " 4   Measure Info    134788 non-null  object \n",
      " 5   Geo Type Name   134788 non-null  object \n",
      " 6   Geo Join ID     134779 non-null  float64\n",
      " 7   Geo Place Name  134779 non-null  object \n",
      " 8   Time Period     134788 non-null  object \n",
      " 9   Start_Date      134788 non-null  object \n",
      " 10  Data Value      134788 non-null  object \n",
      "dtypes: float64(1), int64(2), object(8)\n",
      "memory usage: 11.3+ MB\n",
      "None\n"
     ]
    },
    {
     "data": {
      "text/plain": [
       "'First 5 rows in df'"
      ]
     },
     "metadata": {},
     "output_type": "display_data"
    },
    {
     "data": {
      "application/vnd.microsoft.datawrangler.viewer.v0+json": {
       "columns": [
        {
         "name": "index",
         "rawType": "int64",
         "type": "integer"
        },
        {
         "name": "Unique ID",
         "rawType": "int64",
         "type": "integer"
        },
        {
         "name": "Indicator ID",
         "rawType": "int64",
         "type": "integer"
        },
        {
         "name": "name",
         "rawType": "object",
         "type": "string"
        },
        {
         "name": "Measure",
         "rawType": "object",
         "type": "string"
        },
        {
         "name": "Measure Info",
         "rawType": "object",
         "type": "string"
        },
        {
         "name": "Geo Type Name",
         "rawType": "object",
         "type": "string"
        },
        {
         "name": "Geo Join ID",
         "rawType": "float64",
         "type": "float"
        },
        {
         "name": "Geo Place Name",
         "rawType": "object",
         "type": "string"
        },
        {
         "name": "Time Period",
         "rawType": "object",
         "type": "string"
        },
        {
         "name": "Start_Date",
         "rawType": "object",
         "type": "string"
        },
        {
         "name": "Data Value",
         "rawType": "object",
         "type": "string"
        }
       ],
       "ref": "b7678a03-32bf-424b-bc8f-d070e28e8562",
       "rows": [
        [
         "0",
         "419355",
         "365",
         "Fine particles (PM 2.5)",
         "Estimated annual rate",
         "per square mile",
         "Citywide",
         "208.0",
         "St. George and Stapleton (CD1)",
         "Summer 2010",
         "12/31/2022",
         "0"
        ],
        [
         "1",
         "542128",
         "365",
         "Fine particles (PM 2.5)",
         "Estimated annual rate (age 30+)",
         "per 100,000",
         "Borough",
         "404406.0",
         "Northern SI",
         "Summer 2010",
         "12/31/2022",
         "47"
        ],
        [
         "2",
         "419346",
         "640",
         "Nitrogen dioxide (NO2)",
         "Number per km2",
         "per 100,000",
         "CD",
         "307.0",
         "Fresh Meadows",
         "Summer 2011",
         "31.12.2022",
         "0"
        ],
        [
         "3",
         "419347",
         "365",
         "Boiler Emissions- Total PM2.5 Emissions",
         "Estimated annual rate (age 30+)",
         "per 100,000 adults",
         "UHF42",
         "305.0",
         "Southeast Queens",
         "Annual Average 2009",
         "31.12.2022",
         "0"
        ],
        [
         "4",
         "419348",
         "367",
         "Ozone (O3)",
         "Estimated annual rate (age 30+)",
         "ppb",
         "UHF42",
         "105.0",
         "Greenpoint and Williamsburg (CD1)",
         "Annual Average 2011",
         "31.12.2022",
         "0"
        ]
       ],
       "shape": {
        "columns": 11,
        "rows": 5
       }
      },
      "text/html": [
       "<div>\n",
       "<style scoped>\n",
       "    .dataframe tbody tr th:only-of-type {\n",
       "        vertical-align: middle;\n",
       "    }\n",
       "\n",
       "    .dataframe tbody tr th {\n",
       "        vertical-align: top;\n",
       "    }\n",
       "\n",
       "    .dataframe thead th {\n",
       "        text-align: right;\n",
       "    }\n",
       "</style>\n",
       "<table border=\"1\" class=\"dataframe\">\n",
       "  <thead>\n",
       "    <tr style=\"text-align: right;\">\n",
       "      <th></th>\n",
       "      <th>Unique ID</th>\n",
       "      <th>Indicator ID</th>\n",
       "      <th>name</th>\n",
       "      <th>Measure</th>\n",
       "      <th>Measure Info</th>\n",
       "      <th>Geo Type Name</th>\n",
       "      <th>Geo Join ID</th>\n",
       "      <th>Geo Place Name</th>\n",
       "      <th>Time Period</th>\n",
       "      <th>Start_Date</th>\n",
       "      <th>Data Value</th>\n",
       "    </tr>\n",
       "  </thead>\n",
       "  <tbody>\n",
       "    <tr>\n",
       "      <th>0</th>\n",
       "      <td>419355</td>\n",
       "      <td>365</td>\n",
       "      <td>Fine particles (PM 2.5)</td>\n",
       "      <td>Estimated annual rate</td>\n",
       "      <td>per square mile</td>\n",
       "      <td>Citywide</td>\n",
       "      <td>208.0</td>\n",
       "      <td>St. George and Stapleton (CD1)</td>\n",
       "      <td>Summer 2010</td>\n",
       "      <td>12/31/2022</td>\n",
       "      <td>0</td>\n",
       "    </tr>\n",
       "    <tr>\n",
       "      <th>1</th>\n",
       "      <td>542128</td>\n",
       "      <td>365</td>\n",
       "      <td>Fine particles (PM 2.5)</td>\n",
       "      <td>Estimated annual rate (age 30+)</td>\n",
       "      <td>per 100,000</td>\n",
       "      <td>Borough</td>\n",
       "      <td>404406.0</td>\n",
       "      <td>Northern SI</td>\n",
       "      <td>Summer 2010</td>\n",
       "      <td>12/31/2022</td>\n",
       "      <td>47</td>\n",
       "    </tr>\n",
       "    <tr>\n",
       "      <th>2</th>\n",
       "      <td>419346</td>\n",
       "      <td>640</td>\n",
       "      <td>Nitrogen dioxide (NO2)</td>\n",
       "      <td>Number per km2</td>\n",
       "      <td>per 100,000</td>\n",
       "      <td>CD</td>\n",
       "      <td>307.0</td>\n",
       "      <td>Fresh Meadows</td>\n",
       "      <td>Summer 2011</td>\n",
       "      <td>31.12.2022</td>\n",
       "      <td>0</td>\n",
       "    </tr>\n",
       "    <tr>\n",
       "      <th>3</th>\n",
       "      <td>419347</td>\n",
       "      <td>365</td>\n",
       "      <td>Boiler Emissions- Total PM2.5 Emissions</td>\n",
       "      <td>Estimated annual rate (age 30+)</td>\n",
       "      <td>per 100,000 adults</td>\n",
       "      <td>UHF42</td>\n",
       "      <td>305.0</td>\n",
       "      <td>Southeast Queens</td>\n",
       "      <td>Annual Average 2009</td>\n",
       "      <td>31.12.2022</td>\n",
       "      <td>0</td>\n",
       "    </tr>\n",
       "    <tr>\n",
       "      <th>4</th>\n",
       "      <td>419348</td>\n",
       "      <td>367</td>\n",
       "      <td>Ozone (O3)</td>\n",
       "      <td>Estimated annual rate (age 30+)</td>\n",
       "      <td>ppb</td>\n",
       "      <td>UHF42</td>\n",
       "      <td>105.0</td>\n",
       "      <td>Greenpoint and Williamsburg (CD1)</td>\n",
       "      <td>Annual Average 2011</td>\n",
       "      <td>31.12.2022</td>\n",
       "      <td>0</td>\n",
       "    </tr>\n",
       "  </tbody>\n",
       "</table>\n",
       "</div>"
      ],
      "text/plain": [
       "   Unique ID  Indicator ID                                     name  \\\n",
       "0     419355           365                  Fine particles (PM 2.5)   \n",
       "1     542128           365                  Fine particles (PM 2.5)   \n",
       "2     419346           640                   Nitrogen dioxide (NO2)   \n",
       "3     419347           365  Boiler Emissions- Total PM2.5 Emissions   \n",
       "4     419348           367                               Ozone (O3)   \n",
       "\n",
       "                           Measure        Measure Info Geo Type Name  \\\n",
       "0            Estimated annual rate     per square mile      Citywide   \n",
       "1  Estimated annual rate (age 30+)         per 100,000       Borough   \n",
       "2                   Number per km2         per 100,000            CD   \n",
       "3  Estimated annual rate (age 30+)  per 100,000 adults         UHF42   \n",
       "4  Estimated annual rate (age 30+)                 ppb         UHF42   \n",
       "\n",
       "   Geo Join ID                     Geo Place Name          Time Period  \\\n",
       "0        208.0     St. George and Stapleton (CD1)          Summer 2010   \n",
       "1     404406.0                        Northern SI          Summer 2010   \n",
       "2        307.0                      Fresh Meadows          Summer 2011   \n",
       "3        305.0                   Southeast Queens  Annual Average 2009   \n",
       "4        105.0  Greenpoint and Williamsburg (CD1)  Annual Average 2011   \n",
       "\n",
       "   Start_Date Data Value  \n",
       "0  12/31/2022          0  \n",
       "1  12/31/2022         47  \n",
       "2  31.12.2022          0  \n",
       "3  31.12.2022          0  \n",
       "4  31.12.2022          0  "
      ]
     },
     "metadata": {},
     "output_type": "display_data"
    },
    {
     "name": "stdout",
     "output_type": "stream",
     "text": [
      "Column Unique ID has only one type: <class 'int'>\n",
      "Column Indicator ID has only one type: <class 'int'>\n",
      "Column name has only one type: <class 'str'>\n",
      "Column Measure has only one type: <class 'str'>\n",
      "Column Measure Info has only one type: <class 'str'>\n",
      "Column Geo Type Name has only one type: <class 'str'>\n",
      "Column Geo Join ID has only one type: <class 'float'>\n",
      "Column Geo Place Name has only one type: <class 'str'>\n",
      "Column Time Period has only one type: <class 'str'>\n",
      "Column Start_Date has only one type: <class 'str'>\n",
      "Column Data Value has only one type: <class 'str'>\n"
     ]
    },
    {
     "data": {
      "application/vnd.microsoft.datawrangler.viewer.v0+json": {
       "columns": [
        {
         "name": "index",
         "rawType": "object",
         "type": "string"
        },
        {
         "name": "duplicates_full",
         "rawType": "int64",
         "type": "integer"
        }
       ],
       "ref": "e7d9bb8f-eaa1-4573-8cf0-df639887477e",
       "rows": [
        [
         "duplicates_full",
         "0"
        ]
       ],
       "shape": {
        "columns": 1,
        "rows": 1
       }
      },
      "text/html": [
       "<div>\n",
       "<style scoped>\n",
       "    .dataframe tbody tr th:only-of-type {\n",
       "        vertical-align: middle;\n",
       "    }\n",
       "\n",
       "    .dataframe tbody tr th {\n",
       "        vertical-align: top;\n",
       "    }\n",
       "\n",
       "    .dataframe thead th {\n",
       "        text-align: right;\n",
       "    }\n",
       "</style>\n",
       "<table border=\"1\" class=\"dataframe\">\n",
       "  <thead>\n",
       "    <tr style=\"text-align: right;\">\n",
       "      <th></th>\n",
       "      <th>duplicates_full</th>\n",
       "    </tr>\n",
       "  </thead>\n",
       "  <tbody>\n",
       "    <tr>\n",
       "      <th>duplicates_full</th>\n",
       "      <td>0</td>\n",
       "    </tr>\n",
       "  </tbody>\n",
       "</table>\n",
       "</div>"
      ],
      "text/plain": [
       "                 duplicates_full\n",
       "duplicates_full                0"
      ]
     },
     "metadata": {},
     "output_type": "display_data"
    },
    {
     "data": {
      "application/vnd.microsoft.datawrangler.viewer.v0+json": {
       "columns": [
        {
         "name": "index",
         "rawType": "object",
         "type": "string"
        },
        {
         "name": "Unique ID",
         "rawType": "int64",
         "type": "integer"
        },
        {
         "name": "Indicator ID",
         "rawType": "int64",
         "type": "integer"
        },
        {
         "name": "name",
         "rawType": "int64",
         "type": "integer"
        },
        {
         "name": "Measure",
         "rawType": "int64",
         "type": "integer"
        },
        {
         "name": "Measure Info",
         "rawType": "int64",
         "type": "integer"
        },
        {
         "name": "Geo Type Name",
         "rawType": "int64",
         "type": "integer"
        },
        {
         "name": "Geo Join ID",
         "rawType": "int64",
         "type": "integer"
        },
        {
         "name": "Geo Place Name",
         "rawType": "int64",
         "type": "integer"
        },
        {
         "name": "Time Period",
         "rawType": "int64",
         "type": "integer"
        },
        {
         "name": "Start_Date",
         "rawType": "int64",
         "type": "integer"
        },
        {
         "name": "Data Value",
         "rawType": "int64",
         "type": "integer"
        }
       ],
       "ref": "4b75168a-80e4-4fcb-8b55-e3c27b6ea901",
       "rows": [
        [
         "duplicates_by_cols",
         "0",
         "134765",
         "134770",
         "134780",
         "134779",
         "134783",
         "134707",
         "134664",
         "134732",
         "128817",
         "134424"
        ]
       ],
       "shape": {
        "columns": 11,
        "rows": 1
       }
      },
      "text/html": [
       "<div>\n",
       "<style scoped>\n",
       "    .dataframe tbody tr th:only-of-type {\n",
       "        vertical-align: middle;\n",
       "    }\n",
       "\n",
       "    .dataframe tbody tr th {\n",
       "        vertical-align: top;\n",
       "    }\n",
       "\n",
       "    .dataframe thead th {\n",
       "        text-align: right;\n",
       "    }\n",
       "</style>\n",
       "<table border=\"1\" class=\"dataframe\">\n",
       "  <thead>\n",
       "    <tr style=\"text-align: right;\">\n",
       "      <th></th>\n",
       "      <th>Unique ID</th>\n",
       "      <th>Indicator ID</th>\n",
       "      <th>name</th>\n",
       "      <th>Measure</th>\n",
       "      <th>Measure Info</th>\n",
       "      <th>Geo Type Name</th>\n",
       "      <th>Geo Join ID</th>\n",
       "      <th>Geo Place Name</th>\n",
       "      <th>Time Period</th>\n",
       "      <th>Start_Date</th>\n",
       "      <th>Data Value</th>\n",
       "    </tr>\n",
       "  </thead>\n",
       "  <tbody>\n",
       "    <tr>\n",
       "      <th>duplicates_by_cols</th>\n",
       "      <td>0</td>\n",
       "      <td>134765</td>\n",
       "      <td>134770</td>\n",
       "      <td>134780</td>\n",
       "      <td>134779</td>\n",
       "      <td>134783</td>\n",
       "      <td>134707</td>\n",
       "      <td>134664</td>\n",
       "      <td>134732</td>\n",
       "      <td>128817</td>\n",
       "      <td>134424</td>\n",
       "    </tr>\n",
       "  </tbody>\n",
       "</table>\n",
       "</div>"
      ],
      "text/plain": [
       "                    Unique ID  Indicator ID    name  Measure  Measure Info  \\\n",
       "duplicates_by_cols          0        134765  134770   134780        134779   \n",
       "\n",
       "                    Geo Type Name  Geo Join ID  Geo Place Name  Time Period  \\\n",
       "duplicates_by_cols         134783       134707          134664       134732   \n",
       "\n",
       "                    Start_Date  Data Value  \n",
       "duplicates_by_cols      128817      134424  "
      ]
     },
     "metadata": {},
     "output_type": "display_data"
    },
    {
     "data": {
      "application/vnd.microsoft.datawrangler.viewer.v0+json": {
       "columns": [
        {
         "name": "index",
         "rawType": "object",
         "type": "string"
        }
       ],
       "ref": "cd4f637a-9048-41cd-972c-2dec73b690a2",
       "rows": [
        [
         "zeroes"
        ]
       ],
       "shape": {
        "columns": 0,
        "rows": 1
       }
      },
      "text/html": [
       "<div>\n",
       "<style scoped>\n",
       "    .dataframe tbody tr th:only-of-type {\n",
       "        vertical-align: middle;\n",
       "    }\n",
       "\n",
       "    .dataframe tbody tr th {\n",
       "        vertical-align: top;\n",
       "    }\n",
       "\n",
       "    .dataframe thead th {\n",
       "        text-align: right;\n",
       "    }\n",
       "</style>\n",
       "<table border=\"1\" class=\"dataframe\">\n",
       "  <thead>\n",
       "    <tr style=\"text-align: right;\">\n",
       "      <th></th>\n",
       "    </tr>\n",
       "  </thead>\n",
       "  <tbody>\n",
       "    <tr>\n",
       "      <th>zeroes</th>\n",
       "    </tr>\n",
       "  </tbody>\n",
       "</table>\n",
       "</div>"
      ],
      "text/plain": [
       "Empty DataFrame\n",
       "Columns: []\n",
       "Index: [zeroes]"
      ]
     },
     "metadata": {},
     "output_type": "display_data"
    },
    {
     "data": {
      "application/vnd.microsoft.datawrangler.viewer.v0+json": {
       "columns": [
        {
         "name": "index",
         "rawType": "object",
         "type": "string"
        }
       ],
       "ref": "e7c505f3-35a5-4c4d-8fe8-76c7d3b15163",
       "rows": [
        [
         "minus_ones"
        ]
       ],
       "shape": {
        "columns": 0,
        "rows": 1
       }
      },
      "text/html": [
       "<div>\n",
       "<style scoped>\n",
       "    .dataframe tbody tr th:only-of-type {\n",
       "        vertical-align: middle;\n",
       "    }\n",
       "\n",
       "    .dataframe tbody tr th {\n",
       "        vertical-align: top;\n",
       "    }\n",
       "\n",
       "    .dataframe thead th {\n",
       "        text-align: right;\n",
       "    }\n",
       "</style>\n",
       "<table border=\"1\" class=\"dataframe\">\n",
       "  <thead>\n",
       "    <tr style=\"text-align: right;\">\n",
       "      <th></th>\n",
       "    </tr>\n",
       "  </thead>\n",
       "  <tbody>\n",
       "    <tr>\n",
       "      <th>minus_ones</th>\n",
       "    </tr>\n",
       "  </tbody>\n",
       "</table>\n",
       "</div>"
      ],
      "text/plain": [
       "Empty DataFrame\n",
       "Columns: []\n",
       "Index: [minus_ones]"
      ]
     },
     "metadata": {},
     "output_type": "display_data"
    },
    {
     "data": {
      "application/vnd.microsoft.datawrangler.viewer.v0+json": {
       "columns": [
        {
         "name": "index",
         "rawType": "object",
         "type": "string"
        },
        {
         "name": "Geo Join ID",
         "rawType": "int64",
         "type": "integer"
        },
        {
         "name": "Geo Place Name",
         "rawType": "int64",
         "type": "integer"
        }
       ],
       "ref": "5f1e2223-3b24-4cb3-bf39-bb4c8723c649",
       "rows": [
        [
         "nulls",
         "9",
         "9"
        ]
       ],
       "shape": {
        "columns": 2,
        "rows": 1
       }
      },
      "text/html": [
       "<div>\n",
       "<style scoped>\n",
       "    .dataframe tbody tr th:only-of-type {\n",
       "        vertical-align: middle;\n",
       "    }\n",
       "\n",
       "    .dataframe tbody tr th {\n",
       "        vertical-align: top;\n",
       "    }\n",
       "\n",
       "    .dataframe thead th {\n",
       "        text-align: right;\n",
       "    }\n",
       "</style>\n",
       "<table border=\"1\" class=\"dataframe\">\n",
       "  <thead>\n",
       "    <tr style=\"text-align: right;\">\n",
       "      <th></th>\n",
       "      <th>Geo Join ID</th>\n",
       "      <th>Geo Place Name</th>\n",
       "    </tr>\n",
       "  </thead>\n",
       "  <tbody>\n",
       "    <tr>\n",
       "      <th>nulls</th>\n",
       "      <td>9</td>\n",
       "      <td>9</td>\n",
       "    </tr>\n",
       "  </tbody>\n",
       "</table>\n",
       "</div>"
      ],
      "text/plain": [
       "       Geo Join ID  Geo Place Name\n",
       "nulls            9               9"
      ]
     },
     "metadata": {},
     "output_type": "display_data"
    },
    {
     "data": {
      "application/vnd.microsoft.datawrangler.viewer.v0+json": {
       "columns": [
        {
         "name": "index",
         "rawType": "object",
         "type": "string"
        },
        {
         "name": "Geo Join ID",
         "rawType": "int64",
         "type": "integer"
        },
        {
         "name": "Geo Place Name",
         "rawType": "int64",
         "type": "integer"
        }
       ],
       "ref": "afef29d0-d3da-4f6c-b4a3-b9073c0d4855",
       "rows": [
        [
         "nans",
         "9",
         "9"
        ]
       ],
       "shape": {
        "columns": 2,
        "rows": 1
       }
      },
      "text/html": [
       "<div>\n",
       "<style scoped>\n",
       "    .dataframe tbody tr th:only-of-type {\n",
       "        vertical-align: middle;\n",
       "    }\n",
       "\n",
       "    .dataframe tbody tr th {\n",
       "        vertical-align: top;\n",
       "    }\n",
       "\n",
       "    .dataframe thead th {\n",
       "        text-align: right;\n",
       "    }\n",
       "</style>\n",
       "<table border=\"1\" class=\"dataframe\">\n",
       "  <thead>\n",
       "    <tr style=\"text-align: right;\">\n",
       "      <th></th>\n",
       "      <th>Geo Join ID</th>\n",
       "      <th>Geo Place Name</th>\n",
       "    </tr>\n",
       "  </thead>\n",
       "  <tbody>\n",
       "    <tr>\n",
       "      <th>nans</th>\n",
       "      <td>9</td>\n",
       "      <td>9</td>\n",
       "    </tr>\n",
       "  </tbody>\n",
       "</table>\n",
       "</div>"
      ],
      "text/plain": [
       "      Geo Join ID  Geo Place Name\n",
       "nans            9               9"
      ]
     },
     "metadata": {},
     "output_type": "display_data"
    },
    {
     "data": {
      "application/vnd.microsoft.datawrangler.viewer.v0+json": {
       "columns": [
        {
         "name": "index",
         "rawType": "object",
         "type": "string"
        }
       ],
       "ref": "08556ac3-c27c-413d-846e-43c2141c03c8",
       "rows": [
        [
         "nones"
        ]
       ],
       "shape": {
        "columns": 0,
        "rows": 1
       }
      },
      "text/html": [
       "<div>\n",
       "<style scoped>\n",
       "    .dataframe tbody tr th:only-of-type {\n",
       "        vertical-align: middle;\n",
       "    }\n",
       "\n",
       "    .dataframe tbody tr th {\n",
       "        vertical-align: top;\n",
       "    }\n",
       "\n",
       "    .dataframe thead th {\n",
       "        text-align: right;\n",
       "    }\n",
       "</style>\n",
       "<table border=\"1\" class=\"dataframe\">\n",
       "  <thead>\n",
       "    <tr style=\"text-align: right;\">\n",
       "      <th></th>\n",
       "    </tr>\n",
       "  </thead>\n",
       "  <tbody>\n",
       "    <tr>\n",
       "      <th>nones</th>\n",
       "    </tr>\n",
       "  </tbody>\n",
       "</table>\n",
       "</div>"
      ],
      "text/plain": [
       "Empty DataFrame\n",
       "Columns: []\n",
       "Index: [nones]"
      ]
     },
     "metadata": {},
     "output_type": "display_data"
    },
    {
     "data": {
      "application/vnd.microsoft.datawrangler.viewer.v0+json": {
       "columns": [
        {
         "name": "index",
         "rawType": "object",
         "type": "string"
        }
       ],
       "ref": "9653e53d-31b4-4d5d-b38d-8ebdb30dc584",
       "rows": [
        [
         "NA placeholder"
        ]
       ],
       "shape": {
        "columns": 0,
        "rows": 1
       }
      },
      "text/html": [
       "<div>\n",
       "<style scoped>\n",
       "    .dataframe tbody tr th:only-of-type {\n",
       "        vertical-align: middle;\n",
       "    }\n",
       "\n",
       "    .dataframe tbody tr th {\n",
       "        vertical-align: top;\n",
       "    }\n",
       "\n",
       "    .dataframe thead th {\n",
       "        text-align: right;\n",
       "    }\n",
       "</style>\n",
       "<table border=\"1\" class=\"dataframe\">\n",
       "  <thead>\n",
       "    <tr style=\"text-align: right;\">\n",
       "      <th></th>\n",
       "    </tr>\n",
       "  </thead>\n",
       "  <tbody>\n",
       "    <tr>\n",
       "      <th>NA placeholder</th>\n",
       "    </tr>\n",
       "  </tbody>\n",
       "</table>\n",
       "</div>"
      ],
      "text/plain": [
       "Empty DataFrame\n",
       "Columns: []\n",
       "Index: [NA placeholder]"
      ]
     },
     "metadata": {},
     "output_type": "display_data"
    },
    {
     "data": {
      "application/vnd.microsoft.datawrangler.viewer.v0+json": {
       "columns": [
        {
         "name": "index",
         "rawType": "object",
         "type": "string"
        }
       ],
       "ref": "07f89d1f-d38a-4594-9fd5-efa2175f33d1",
       "rows": [
        [
         "null placeholder"
        ]
       ],
       "shape": {
        "columns": 0,
        "rows": 1
       }
      },
      "text/html": [
       "<div>\n",
       "<style scoped>\n",
       "    .dataframe tbody tr th:only-of-type {\n",
       "        vertical-align: middle;\n",
       "    }\n",
       "\n",
       "    .dataframe tbody tr th {\n",
       "        vertical-align: top;\n",
       "    }\n",
       "\n",
       "    .dataframe thead th {\n",
       "        text-align: right;\n",
       "    }\n",
       "</style>\n",
       "<table border=\"1\" class=\"dataframe\">\n",
       "  <thead>\n",
       "    <tr style=\"text-align: right;\">\n",
       "      <th></th>\n",
       "    </tr>\n",
       "  </thead>\n",
       "  <tbody>\n",
       "    <tr>\n",
       "      <th>null placeholder</th>\n",
       "    </tr>\n",
       "  </tbody>\n",
       "</table>\n",
       "</div>"
      ],
      "text/plain": [
       "Empty DataFrame\n",
       "Columns: []\n",
       "Index: [null placeholder]"
      ]
     },
     "metadata": {},
     "output_type": "display_data"
    },
    {
     "data": {
      "application/vnd.microsoft.datawrangler.viewer.v0+json": {
       "columns": [
        {
         "name": "index",
         "rawType": "object",
         "type": "string"
        }
       ],
       "ref": "e4da319a-07b5-4cb2-a4d0-bea7b5aab008",
       "rows": [
        [
         "N/A placeholder"
        ]
       ],
       "shape": {
        "columns": 0,
        "rows": 1
       }
      },
      "text/html": [
       "<div>\n",
       "<style scoped>\n",
       "    .dataframe tbody tr th:only-of-type {\n",
       "        vertical-align: middle;\n",
       "    }\n",
       "\n",
       "    .dataframe tbody tr th {\n",
       "        vertical-align: top;\n",
       "    }\n",
       "\n",
       "    .dataframe thead th {\n",
       "        text-align: right;\n",
       "    }\n",
       "</style>\n",
       "<table border=\"1\" class=\"dataframe\">\n",
       "  <thead>\n",
       "    <tr style=\"text-align: right;\">\n",
       "      <th></th>\n",
       "    </tr>\n",
       "  </thead>\n",
       "  <tbody>\n",
       "    <tr>\n",
       "      <th>N/A placeholder</th>\n",
       "    </tr>\n",
       "  </tbody>\n",
       "</table>\n",
       "</div>"
      ],
      "text/plain": [
       "Empty DataFrame\n",
       "Columns: []\n",
       "Index: [N/A placeholder]"
      ]
     },
     "metadata": {},
     "output_type": "display_data"
    },
    {
     "data": {
      "application/vnd.microsoft.datawrangler.viewer.v0+json": {
       "columns": [
        {
         "name": "index",
         "rawType": "int64",
         "type": "integer"
        }
       ],
       "ref": "7043c115-98d4-4b74-9a00-340597077d43",
       "rows": [],
       "shape": {
        "columns": 0,
        "rows": 0
       }
      },
      "text/html": [
       "<div>\n",
       "<style scoped>\n",
       "    .dataframe tbody tr th:only-of-type {\n",
       "        vertical-align: middle;\n",
       "    }\n",
       "\n",
       "    .dataframe tbody tr th {\n",
       "        vertical-align: top;\n",
       "    }\n",
       "\n",
       "    .dataframe thead th {\n",
       "        text-align: right;\n",
       "    }\n",
       "</style>\n",
       "<table border=\"1\" class=\"dataframe\">\n",
       "  <thead>\n",
       "    <tr style=\"text-align: right;\">\n",
       "      <th></th>\n",
       "    </tr>\n",
       "  </thead>\n",
       "  <tbody>\n",
       "  </tbody>\n",
       "</table>\n",
       "</div>"
      ],
      "text/plain": [
       "Empty DataFrame\n",
       "Columns: []\n",
       "Index: []"
      ]
     },
     "metadata": {},
     "output_type": "display_data"
    }
   ],
   "source": [
    "pd_tools.df_info(air_quality)"
   ]
  },
  {
   "cell_type": "code",
   "execution_count": 40,
   "id": "df256c4c",
   "metadata": {},
   "outputs": [
    {
     "data": {
      "text/plain": [
       "Index(['Unique ID', 'Indicator ID', 'name', 'Measure', 'Measure Info',\n",
       "       'Geo Type Name', 'Geo Join ID', 'Geo Place Name', 'Time Period',\n",
       "       'Start_Date', 'Data Value'],\n",
       "      dtype='object')"
      ]
     },
     "execution_count": 40,
     "metadata": {},
     "output_type": "execute_result"
    }
   ],
   "source": [
    "air_quality.columns"
   ]
  },
  {
   "cell_type": "markdown",
   "id": "2f187d00",
   "metadata": {},
   "source": [
    "## Preprocess data"
   ]
  },
  {
   "cell_type": "code",
   "execution_count": 41,
   "id": "69b1496f",
   "metadata": {},
   "outputs": [],
   "source": [
    "# rename columns\n",
    "air_quality = air_quality.rename(columns={\n",
    "    'Unique ID': 'unique_id',\n",
    "    'Indicator ID': 'indicator_id',\n",
    "    'Measure': 'measure',\n",
    "    'Measure Info': 'measure_info',\n",
    "    'Geo Type Name': 'geo_type_name',\n",
    "    'Geo Join ID': 'geo_join_id',\n",
    "    'Geo Place Name': 'geo_place_name',\n",
    "    'Time Period': 'time_period',\n",
    "    'Start_Date': 'start_date',\n",
    "    'Data Value': 'data_value'\n",
    "})\n"
   ]
  },
  {
   "cell_type": "code",
   "execution_count": 14,
   "id": "cba76fc6",
   "metadata": {},
   "outputs": [
    {
     "data": {
      "application/vnd.microsoft.datawrangler.viewer.v0+json": {
       "columns": [
        {
         "name": "index",
         "rawType": "object",
         "type": "string"
        },
        {
         "name": "0",
         "rawType": "object",
         "type": "unknown"
        }
       ],
       "ref": "8311de5d-1d53-4e54-a2b3-79d727af3a55",
       "rows": [
        [
         "unique_id",
         "int64"
        ],
        [
         "indicator_id",
         "int64"
        ],
        [
         "name",
         "object"
        ],
        [
         "measure",
         "object"
        ],
        [
         "measure_info",
         "object"
        ],
        [
         "geo_type_name",
         "object"
        ],
        [
         "geo_join_id",
         "float64"
        ],
        [
         "geo_place_name",
         "object"
        ],
        [
         "time_period",
         "object"
        ],
        [
         "start_date",
         "object"
        ],
        [
         "data_value",
         "object"
        ]
       ],
       "shape": {
        "columns": 1,
        "rows": 11
       }
      },
      "text/plain": [
       "unique_id           int64\n",
       "indicator_id        int64\n",
       "name               object\n",
       "measure            object\n",
       "measure_info       object\n",
       "geo_type_name      object\n",
       "geo_join_id       float64\n",
       "geo_place_name     object\n",
       "time_period        object\n",
       "start_date         object\n",
       "data_value         object\n",
       "dtype: object"
      ]
     },
     "execution_count": 14,
     "metadata": {},
     "output_type": "execute_result"
    }
   ],
   "source": [
    "air_quality.dtypes"
   ]
  },
  {
   "cell_type": "code",
   "execution_count": 42,
   "id": "c61a1451",
   "metadata": {},
   "outputs": [
    {
     "data": {
      "application/vnd.microsoft.datawrangler.viewer.v0+json": {
       "columns": [
        {
         "name": "index",
         "rawType": "int64",
         "type": "integer"
        },
        {
         "name": "data_value",
         "rawType": "float64",
         "type": "float"
        }
       ],
       "ref": "db6a20a8-bd2d-422d-bb0c-e8da1df752e2",
       "rows": [
        [
         "0",
         "0.0"
        ],
        [
         "1",
         "47.0"
        ],
        [
         "2",
         "0.0"
        ],
        [
         "3",
         "0.0"
        ],
        [
         "4",
         "0.0"
        ]
       ],
       "shape": {
        "columns": 1,
        "rows": 5
       }
      },
      "text/plain": [
       "0     0.0\n",
       "1    47.0\n",
       "2     0.0\n",
       "3     0.0\n",
       "4     0.0\n",
       "Name: data_value, dtype: float64"
      ]
     },
     "execution_count": 42,
     "metadata": {},
     "output_type": "execute_result"
    }
   ],
   "source": [
    "# change data type of columns\n",
    "air_quality['data_value'] = air_quality['data_value'].replace(',', '.', regex=True).astype(float)\n",
    "air_quality['data_value'].head()"
   ]
  },
  {
   "cell_type": "code",
   "execution_count": 43,
   "id": "cb91da0c",
   "metadata": {},
   "outputs": [
    {
     "data": {
      "application/vnd.microsoft.datawrangler.viewer.v0+json": {
       "columns": [
        {
         "name": "index",
         "rawType": "int64",
         "type": "integer"
        },
        {
         "name": "geo_join_id",
         "rawType": "UInt32",
         "type": "integer"
        }
       ],
       "ref": "661a0285-187d-4b72-8456-5d6de3977409",
       "rows": [
        [
         "0",
         "208"
        ],
        [
         "1",
         "404406"
        ],
        [
         "2",
         "307"
        ],
        [
         "3",
         "305"
        ],
        [
         "4",
         "105"
        ]
       ],
       "shape": {
        "columns": 1,
        "rows": 5
       }
      },
      "text/plain": [
       "0       208\n",
       "1    404406\n",
       "2       307\n",
       "3       305\n",
       "4       105\n",
       "Name: geo_join_id, dtype: UInt32"
      ]
     },
     "execution_count": 43,
     "metadata": {},
     "output_type": "execute_result"
    }
   ],
   "source": [
    "# fill nan to 0 and change to int\n",
    "air_quality['geo_join_id'] = air_quality['geo_join_id'].fillna(0).astype('UInt32')\n",
    "air_quality['geo_join_id'].head()"
   ]
  },
  {
   "cell_type": "code",
   "execution_count": 44,
   "id": "116cf427",
   "metadata": {},
   "outputs": [
    {
     "data": {
      "application/vnd.microsoft.datawrangler.viewer.v0+json": {
       "columns": [
        {
         "name": "index",
         "rawType": "int64",
         "type": "integer"
        },
        {
         "name": "start_date",
         "rawType": "object",
         "type": "string"
        }
       ],
       "ref": "4b1c40a2-7936-428a-8e0b-ddec5d8b335a",
       "rows": [
        [
         "0",
         "12/31/2022"
        ],
        [
         "1",
         "12/31/2022"
        ],
        [
         "2",
         "31.12.2022"
        ],
        [
         "3",
         "31.12.2022"
        ],
        [
         "4",
         "31.12.2022"
        ],
        [
         "5",
         "31.12.2022"
        ],
        [
         "6",
         "31.12.2022"
        ],
        [
         "7",
         "31.12.2022"
        ],
        [
         "8",
         "31.12.2022"
        ],
        [
         "9",
         "31.12.2022"
        ],
        [
         "10",
         "31.12.2022"
        ],
        [
         "11",
         "31.12.2022"
        ],
        [
         "12",
         "31.12.2022"
        ],
        [
         "13",
         "31.12.2022"
        ],
        [
         "14",
         "31.12.2022"
        ],
        [
         "15",
         "31.12.2022"
        ],
        [
         "16",
         "31.12.2022"
        ],
        [
         "17",
         "31.12.2022"
        ],
        [
         "18",
         "31.12.2022"
        ],
        [
         "19",
         "31.12.2022"
        ],
        [
         "20",
         "31.12.2022"
        ],
        [
         "21",
         "31.12.2022"
        ],
        [
         "22",
         "31.12.2021"
        ],
        [
         "23",
         "31.12.2021"
        ],
        [
         "24",
         "31.12.2021"
        ],
        [
         "25",
         "31.12.2021"
        ],
        [
         "26",
         "31.12.2021"
        ],
        [
         "27",
         "31.12.2021"
        ],
        [
         "28",
         "31.12.2021"
        ],
        [
         "29",
         "31.12.2021"
        ],
        [
         "30",
         "31.12.2021"
        ],
        [
         "31",
         "31.12.2021"
        ],
        [
         "32",
         "31.12.2021"
        ],
        [
         "33",
         "31.12.2021"
        ],
        [
         "34",
         "31.12.2021"
        ],
        [
         "35",
         "31.12.2021"
        ],
        [
         "36",
         "31.12.2021"
        ],
        [
         "37",
         "31.12.2020"
        ],
        [
         "38",
         "31.12.2020"
        ],
        [
         "39",
         "31.12.2020"
        ],
        [
         "40",
         "31.12.2020"
        ],
        [
         "41",
         "31.12.2020"
        ],
        [
         "42",
         "31.12.2020"
        ],
        [
         "43",
         "31.12.2020"
        ],
        [
         "44",
         "31.12.2020"
        ],
        [
         "45",
         "31.12.2020"
        ],
        [
         "46",
         "31.12.2020"
        ],
        [
         "47",
         "31.12.2020"
        ],
        [
         "48",
         "31.12.2020"
        ],
        [
         "49",
         "31.12.2020"
        ]
       ],
       "shape": {
        "columns": 1,
        "rows": 134788
       }
      },
      "text/plain": [
       "0         12/31/2022\n",
       "1         12/31/2022\n",
       "2         31.12.2022\n",
       "3         31.12.2022\n",
       "4         31.12.2022\n",
       "             ...    \n",
       "134783     2/18/2023\n",
       "134784     1/25/2023\n",
       "134785     1/16/2023\n",
       "134786     1/15/2023\n",
       "134787     1/10/2023\n",
       "Name: start_date, Length: 134788, dtype: object"
      ]
     },
     "execution_count": 44,
     "metadata": {},
     "output_type": "execute_result"
    }
   ],
   "source": [
    "air_quality['start_date']"
   ]
  },
  {
   "cell_type": "code",
   "execution_count": 45,
   "id": "c40d6194",
   "metadata": {},
   "outputs": [
    {
     "data": {
      "application/vnd.microsoft.datawrangler.viewer.v0+json": {
       "columns": [
        {
         "name": "index",
         "rawType": "int64",
         "type": "integer"
        },
        {
         "name": "start_date",
         "rawType": "datetime64[ns]",
         "type": "datetime"
        }
       ],
       "ref": "5d628127-f135-4dfc-a1a2-cf6339fd9d2b",
       "rows": [
        [
         "0",
         "2022-12-31 00:00:00"
        ],
        [
         "1",
         "2022-12-31 00:00:00"
        ],
        [
         "2",
         "2022-12-31 00:00:00"
        ],
        [
         "3",
         "2022-12-31 00:00:00"
        ],
        [
         "4",
         "2022-12-31 00:00:00"
        ]
       ],
       "shape": {
        "columns": 1,
        "rows": 5
       }
      },
      "text/plain": [
       "0   2022-12-31\n",
       "1   2022-12-31\n",
       "2   2022-12-31\n",
       "3   2022-12-31\n",
       "4   2022-12-31\n",
       "Name: start_date, dtype: datetime64[ns]"
      ]
     },
     "execution_count": 45,
     "metadata": {},
     "output_type": "execute_result"
    }
   ],
   "source": [
    "air_quality['start_date'] = air_quality['start_date'].apply(lambda x: dateutil.parser.parse(x))\n",
    "air_quality['start_date'].head()"
   ]
  },
  {
   "cell_type": "code",
   "execution_count": 46,
   "id": "0e33bea3",
   "metadata": {},
   "outputs": [
    {
     "name": "stdout",
     "output_type": "stream",
     "text": [
      "<class 'pandas.core.frame.DataFrame'>\n",
      "RangeIndex: 134788 entries, 0 to 134787\n",
      "Data columns (total 11 columns):\n",
      " #   Column          Non-Null Count   Dtype         \n",
      "---  ------          --------------   -----         \n",
      " 0   unique_id       134788 non-null  int64         \n",
      " 1   indicator_id    134788 non-null  int64         \n",
      " 2   name            134788 non-null  object        \n",
      " 3   measure         134788 non-null  object        \n",
      " 4   measure_info    134788 non-null  object        \n",
      " 5   geo_type_name   134788 non-null  object        \n",
      " 6   geo_join_id     134788 non-null  UInt32        \n",
      " 7   geo_place_name  134779 non-null  object        \n",
      " 8   time_period     134788 non-null  object        \n",
      " 9   start_date      134788 non-null  datetime64[ns]\n",
      " 10  data_value      134788 non-null  float64       \n",
      "dtypes: UInt32(1), datetime64[ns](1), float64(1), int64(2), object(6)\n",
      "memory usage: 10.9+ MB\n"
     ]
    }
   ],
   "source": [
    "air_quality.info()"
   ]
  },
  {
   "cell_type": "code",
   "execution_count": 47,
   "id": "887e0663",
   "metadata": {},
   "outputs": [],
   "source": [
    "air_quality.to_csv(\"data/air_quality_norm.csv\", index=False)"
   ]
  },
  {
   "cell_type": "markdown",
   "id": "d4dac91e",
   "metadata": {},
   "source": [
    "## Upload data to DB"
   ]
  },
  {
   "cell_type": "code",
   "execution_count": 48,
   "id": "487ff29b",
   "metadata": {},
   "outputs": [],
   "source": [
    "air_quality_norm = pd.read_csv(f\"{data_path}/air_quality_norm.csv\")"
   ]
  },
  {
   "cell_type": "code",
   "execution_count": 49,
   "id": "ccdb6a45",
   "metadata": {},
   "outputs": [
    {
     "name": "stdout",
     "output_type": "stream",
     "text": [
      "\n",
      "Checking table dbch.air_quality...\n",
      "Table dbch.air_quality does not exist\n",
      "Table dbch.air_quality created\n",
      "Data uploaded to created dbch.air_quality\n",
      "Table dbch.air_quality created and data uploaded\n"
     ]
    }
   ],
   "source": [
    "db_tools.uu_to_clickhouse(air_quality_norm, CLICKHOUSE_DB, 'air_quality', iana_timezone='UTC')"
   ]
  },
  {
   "cell_type": "code",
   "execution_count": 50,
   "id": "3ba9e699",
   "metadata": {},
   "outputs": [
    {
     "data": {
      "application/vnd.microsoft.datawrangler.viewer.v0+json": {
       "columns": [
        {
         "name": "index",
         "rawType": "int64",
         "type": "integer"
        },
        {
         "name": "unique_id",
         "rawType": "uint32",
         "type": "integer"
        },
        {
         "name": "indicator_id",
         "rawType": "uint16",
         "type": "integer"
        },
        {
         "name": "name",
         "rawType": "string",
         "type": "string"
        },
        {
         "name": "measure",
         "rawType": "string",
         "type": "string"
        },
        {
         "name": "measure_info",
         "rawType": "string",
         "type": "string"
        },
        {
         "name": "geo_type_name",
         "rawType": "string",
         "type": "string"
        },
        {
         "name": "geo_join_id",
         "rawType": "uint32",
         "type": "integer"
        },
        {
         "name": "geo_place_name",
         "rawType": "string",
         "type": "string"
        },
        {
         "name": "time_period",
         "rawType": "string",
         "type": "string"
        },
        {
         "name": "start_date",
         "rawType": "string",
         "type": "string"
        },
        {
         "name": "data_value",
         "rawType": "float32",
         "type": "float"
        }
       ],
       "ref": "7fda264a-c5ba-4833-bc6f-b914b4a096b2",
       "rows": [
        [
         "0",
         "419355",
         "365",
         "Fine particles (PM 2.5)",
         "Estimated annual rate",
         "per square mile",
         "Citywide",
         "208",
         "St. George and Stapleton (CD1)",
         "Summer 2010",
         "2022-12-31",
         "0.0"
        ],
        [
         "1",
         "542128",
         "365",
         "Fine particles (PM 2.5)",
         "Estimated annual rate (age 30+)",
         "per 100,000",
         "Borough",
         "404406",
         "Northern SI",
         "Summer 2010",
         "2022-12-31",
         "47.0"
        ],
        [
         "2",
         "419346",
         "640",
         "Nitrogen dioxide (NO2)",
         "Number per km2",
         "per 100,000",
         "CD",
         "307",
         "Fresh Meadows",
         "Summer 2011",
         "2022-12-31",
         "0.0"
        ],
        [
         "3",
         "419347",
         "365",
         "Boiler Emissions- Total PM2.5 Emissions",
         "Estimated annual rate (age 30+)",
         "per 100,000 adults",
         "UHF42",
         "305",
         "Southeast Queens",
         "Annual Average 2009",
         "2022-12-31",
         "0.0"
        ],
        [
         "4",
         "419348",
         "367",
         "Ozone (O3)",
         "Estimated annual rate (age 30+)",
         "ppb",
         "UHF42",
         "105",
         "Greenpoint and Williamsburg (CD1)",
         "Annual Average 2011",
         "2022-12-31",
         "0.0"
        ],
        [
         "5",
         "419349",
         "367",
         "Cardiac and respiratory deaths due to Ozone",
         "Estimated annual rate (under age 18)",
         "per 100,000 adults",
         "UHF42",
         "309310",
         "Long Island City - Astoria",
         "Summer 2009",
         "2022-12-31",
         "0.0"
        ],
        [
         "6",
         "419350",
         "366",
         "Deaths due to PM2.5",
         "Estimated annual rate",
         "mcg/m3",
         "UHF42",
         "304",
         "Lower Manhattan",
         "Winter 2010-11",
         "2022-12-31",
         "0.0"
        ],
        [
         "7",
         "419351",
         "640",
         "Ozone (O3)",
         "Million miles",
         "per 100,000 adults",
         "Borough",
         "211",
         "West Queens",
         "Summer 2009",
         "2022-12-31",
         "0.0"
        ],
        [
         "8",
         "419352",
         "366",
         "Outdoor Air Toxics - Benzene",
         "Million miles",
         "mcg/m3",
         "CD",
         "104",
         "Washington Heights and Inwood (CD12)",
         "Annual Average 2009",
         "2022-12-31",
         "0.0"
        ],
        [
         "9",
         "419353",
         "367",
         "Cardiac and respiratory deaths due to Ozone",
         "Mean",
         "per square mile",
         "UHF34",
         "1",
         "Kingsbridge - Riverdale",
         "Annual Average 2011",
         "2022-12-31",
         "0.0"
        ]
       ],
       "shape": {
        "columns": 11,
        "rows": 10
       }
      },
      "text/html": [
       "<div>\n",
       "<style scoped>\n",
       "    .dataframe tbody tr th:only-of-type {\n",
       "        vertical-align: middle;\n",
       "    }\n",
       "\n",
       "    .dataframe tbody tr th {\n",
       "        vertical-align: top;\n",
       "    }\n",
       "\n",
       "    .dataframe thead th {\n",
       "        text-align: right;\n",
       "    }\n",
       "</style>\n",
       "<table border=\"1\" class=\"dataframe\">\n",
       "  <thead>\n",
       "    <tr style=\"text-align: right;\">\n",
       "      <th></th>\n",
       "      <th>unique_id</th>\n",
       "      <th>indicator_id</th>\n",
       "      <th>name</th>\n",
       "      <th>measure</th>\n",
       "      <th>measure_info</th>\n",
       "      <th>geo_type_name</th>\n",
       "      <th>geo_join_id</th>\n",
       "      <th>geo_place_name</th>\n",
       "      <th>time_period</th>\n",
       "      <th>start_date</th>\n",
       "      <th>data_value</th>\n",
       "    </tr>\n",
       "  </thead>\n",
       "  <tbody>\n",
       "    <tr>\n",
       "      <th>0</th>\n",
       "      <td>419355</td>\n",
       "      <td>365</td>\n",
       "      <td>Fine particles (PM 2.5)</td>\n",
       "      <td>Estimated annual rate</td>\n",
       "      <td>per square mile</td>\n",
       "      <td>Citywide</td>\n",
       "      <td>208</td>\n",
       "      <td>St. George and Stapleton (CD1)</td>\n",
       "      <td>Summer 2010</td>\n",
       "      <td>2022-12-31</td>\n",
       "      <td>0.0</td>\n",
       "    </tr>\n",
       "    <tr>\n",
       "      <th>1</th>\n",
       "      <td>542128</td>\n",
       "      <td>365</td>\n",
       "      <td>Fine particles (PM 2.5)</td>\n",
       "      <td>Estimated annual rate (age 30+)</td>\n",
       "      <td>per 100,000</td>\n",
       "      <td>Borough</td>\n",
       "      <td>404406</td>\n",
       "      <td>Northern SI</td>\n",
       "      <td>Summer 2010</td>\n",
       "      <td>2022-12-31</td>\n",
       "      <td>47.0</td>\n",
       "    </tr>\n",
       "    <tr>\n",
       "      <th>2</th>\n",
       "      <td>419346</td>\n",
       "      <td>640</td>\n",
       "      <td>Nitrogen dioxide (NO2)</td>\n",
       "      <td>Number per km2</td>\n",
       "      <td>per 100,000</td>\n",
       "      <td>CD</td>\n",
       "      <td>307</td>\n",
       "      <td>Fresh Meadows</td>\n",
       "      <td>Summer 2011</td>\n",
       "      <td>2022-12-31</td>\n",
       "      <td>0.0</td>\n",
       "    </tr>\n",
       "    <tr>\n",
       "      <th>3</th>\n",
       "      <td>419347</td>\n",
       "      <td>365</td>\n",
       "      <td>Boiler Emissions- Total PM2.5 Emissions</td>\n",
       "      <td>Estimated annual rate (age 30+)</td>\n",
       "      <td>per 100,000 adults</td>\n",
       "      <td>UHF42</td>\n",
       "      <td>305</td>\n",
       "      <td>Southeast Queens</td>\n",
       "      <td>Annual Average 2009</td>\n",
       "      <td>2022-12-31</td>\n",
       "      <td>0.0</td>\n",
       "    </tr>\n",
       "    <tr>\n",
       "      <th>4</th>\n",
       "      <td>419348</td>\n",
       "      <td>367</td>\n",
       "      <td>Ozone (O3)</td>\n",
       "      <td>Estimated annual rate (age 30+)</td>\n",
       "      <td>ppb</td>\n",
       "      <td>UHF42</td>\n",
       "      <td>105</td>\n",
       "      <td>Greenpoint and Williamsburg (CD1)</td>\n",
       "      <td>Annual Average 2011</td>\n",
       "      <td>2022-12-31</td>\n",
       "      <td>0.0</td>\n",
       "    </tr>\n",
       "    <tr>\n",
       "      <th>5</th>\n",
       "      <td>419349</td>\n",
       "      <td>367</td>\n",
       "      <td>Cardiac and respiratory deaths due to Ozone</td>\n",
       "      <td>Estimated annual rate (under age 18)</td>\n",
       "      <td>per 100,000 adults</td>\n",
       "      <td>UHF42</td>\n",
       "      <td>309310</td>\n",
       "      <td>Long Island City - Astoria</td>\n",
       "      <td>Summer 2009</td>\n",
       "      <td>2022-12-31</td>\n",
       "      <td>0.0</td>\n",
       "    </tr>\n",
       "    <tr>\n",
       "      <th>6</th>\n",
       "      <td>419350</td>\n",
       "      <td>366</td>\n",
       "      <td>Deaths due to PM2.5</td>\n",
       "      <td>Estimated annual rate</td>\n",
       "      <td>mcg/m3</td>\n",
       "      <td>UHF42</td>\n",
       "      <td>304</td>\n",
       "      <td>Lower Manhattan</td>\n",
       "      <td>Winter 2010-11</td>\n",
       "      <td>2022-12-31</td>\n",
       "      <td>0.0</td>\n",
       "    </tr>\n",
       "    <tr>\n",
       "      <th>7</th>\n",
       "      <td>419351</td>\n",
       "      <td>640</td>\n",
       "      <td>Ozone (O3)</td>\n",
       "      <td>Million miles</td>\n",
       "      <td>per 100,000 adults</td>\n",
       "      <td>Borough</td>\n",
       "      <td>211</td>\n",
       "      <td>West Queens</td>\n",
       "      <td>Summer 2009</td>\n",
       "      <td>2022-12-31</td>\n",
       "      <td>0.0</td>\n",
       "    </tr>\n",
       "    <tr>\n",
       "      <th>8</th>\n",
       "      <td>419352</td>\n",
       "      <td>366</td>\n",
       "      <td>Outdoor Air Toxics - Benzene</td>\n",
       "      <td>Million miles</td>\n",
       "      <td>mcg/m3</td>\n",
       "      <td>CD</td>\n",
       "      <td>104</td>\n",
       "      <td>Washington Heights and Inwood (CD12)</td>\n",
       "      <td>Annual Average 2009</td>\n",
       "      <td>2022-12-31</td>\n",
       "      <td>0.0</td>\n",
       "    </tr>\n",
       "    <tr>\n",
       "      <th>9</th>\n",
       "      <td>419353</td>\n",
       "      <td>367</td>\n",
       "      <td>Cardiac and respiratory deaths due to Ozone</td>\n",
       "      <td>Mean</td>\n",
       "      <td>per square mile</td>\n",
       "      <td>UHF34</td>\n",
       "      <td>1</td>\n",
       "      <td>Kingsbridge - Riverdale</td>\n",
       "      <td>Annual Average 2011</td>\n",
       "      <td>2022-12-31</td>\n",
       "      <td>0.0</td>\n",
       "    </tr>\n",
       "  </tbody>\n",
       "</table>\n",
       "</div>"
      ],
      "text/plain": [
       "   unique_id  indicator_id                                         name  \\\n",
       "0     419355           365                      Fine particles (PM 2.5)   \n",
       "1     542128           365                      Fine particles (PM 2.5)   \n",
       "2     419346           640                       Nitrogen dioxide (NO2)   \n",
       "3     419347           365      Boiler Emissions- Total PM2.5 Emissions   \n",
       "4     419348           367                                   Ozone (O3)   \n",
       "5     419349           367  Cardiac and respiratory deaths due to Ozone   \n",
       "6     419350           366                          Deaths due to PM2.5   \n",
       "7     419351           640                                   Ozone (O3)   \n",
       "8     419352           366                 Outdoor Air Toxics - Benzene   \n",
       "9     419353           367  Cardiac and respiratory deaths due to Ozone   \n",
       "\n",
       "                                measure        measure_info geo_type_name  \\\n",
       "0                 Estimated annual rate     per square mile      Citywide   \n",
       "1       Estimated annual rate (age 30+)         per 100,000       Borough   \n",
       "2                        Number per km2         per 100,000            CD   \n",
       "3       Estimated annual rate (age 30+)  per 100,000 adults         UHF42   \n",
       "4       Estimated annual rate (age 30+)                 ppb         UHF42   \n",
       "5  Estimated annual rate (under age 18)  per 100,000 adults         UHF42   \n",
       "6                 Estimated annual rate              mcg/m3         UHF42   \n",
       "7                         Million miles  per 100,000 adults       Borough   \n",
       "8                         Million miles              mcg/m3            CD   \n",
       "9                                  Mean     per square mile         UHF34   \n",
       "\n",
       "   geo_join_id                        geo_place_name          time_period  \\\n",
       "0          208        St. George and Stapleton (CD1)          Summer 2010   \n",
       "1       404406                           Northern SI          Summer 2010   \n",
       "2          307                         Fresh Meadows          Summer 2011   \n",
       "3          305                      Southeast Queens  Annual Average 2009   \n",
       "4          105     Greenpoint and Williamsburg (CD1)  Annual Average 2011   \n",
       "5       309310            Long Island City - Astoria          Summer 2009   \n",
       "6          304                       Lower Manhattan       Winter 2010-11   \n",
       "7          211                           West Queens          Summer 2009   \n",
       "8          104  Washington Heights and Inwood (CD12)  Annual Average 2009   \n",
       "9            1               Kingsbridge - Riverdale  Annual Average 2011   \n",
       "\n",
       "   start_date  data_value  \n",
       "0  2022-12-31         0.0  \n",
       "1  2022-12-31        47.0  \n",
       "2  2022-12-31         0.0  \n",
       "3  2022-12-31         0.0  \n",
       "4  2022-12-31         0.0  \n",
       "5  2022-12-31         0.0  \n",
       "6  2022-12-31         0.0  \n",
       "7  2022-12-31         0.0  \n",
       "8  2022-12-31         0.0  \n",
       "9  2022-12-31         0.0  "
      ]
     },
     "execution_count": 50,
     "metadata": {},
     "output_type": "execute_result"
    }
   ],
   "source": [
    "client_ch.query_df(\"SELECT * FROM air_quality limit 10\")"
   ]
  },
  {
   "cell_type": "markdown",
   "id": "4563dd07",
   "metadata": {},
   "source": [
    "## Exercises\n",
    "\n",
    "1. ▶️Найдите все локации (Geo Place Name), где среднее значение озона (name = 'Ozone (O3)') превышает 65 и количество измерений не менее 255. Сколько таких локаций. \n",
    "Для сохранения информации о загрязнителях в CRM Битрикс24 потребуется создать пользовательские поля для компаний. В таблицах базы данных Битрикс24 эта информация будет храниться в:"
   ]
  },
  {
   "cell_type": "code",
   "execution_count": 103,
   "id": "060642ba",
   "metadata": {},
   "outputs": [
    {
     "data": {
      "application/vnd.microsoft.datawrangler.viewer.v0+json": {
       "columns": [
        {
         "name": "index",
         "rawType": "int64",
         "type": "integer"
        },
        {
         "name": "indicator_id",
         "rawType": "uint16",
         "type": "integer"
        },
        {
         "name": "name",
         "rawType": "string",
         "type": "string"
        }
       ],
       "ref": "ae57d56e-d094-4b8b-8afe-793f398e6b3f",
       "rows": [
        [
         "0",
         "367",
         "Ozone (O3)"
        ],
        [
         "1",
         "640",
         "Ozone (O3)"
        ],
        [
         "2",
         "366",
         "Ozone (O3)"
        ],
        [
         "3",
         "367",
         "Ozone (O3)"
        ],
        [
         "4",
         "367",
         "Ozone (O3)"
        ],
        [
         "5",
         "367",
         "Ozone (O3)"
        ],
        [
         "6",
         "367",
         "Ozone (O3)"
        ],
        [
         "7",
         "367",
         "Ozone (O3)"
        ],
        [
         "8",
         "367",
         "Ozone (O3)"
        ],
        [
         "9",
         "367",
         "Ozone (O3)"
        ],
        [
         "10",
         "367",
         "Ozone (O3)"
        ],
        [
         "11",
         "367",
         "Ozone (O3)"
        ],
        [
         "12",
         "640",
         "Ozone (O3)"
        ],
        [
         "13",
         "365",
         "Ozone (O3)"
        ],
        [
         "14",
         "640",
         "Ozone (O3)"
        ],
        [
         "15",
         "367",
         "Ozone (O3)"
        ],
        [
         "16",
         "367",
         "Ozone (O3)"
        ],
        [
         "17",
         "367",
         "Ozone (O3)"
        ],
        [
         "18",
         "640",
         "Ozone (O3)"
        ],
        [
         "19",
         "365",
         "Ozone (O3)"
        ],
        [
         "20",
         "367",
         "Ozone (O3)"
        ],
        [
         "21",
         "367",
         "Ozone (O3)"
        ],
        [
         "22",
         "640",
         "Ozone (O3)"
        ],
        [
         "23",
         "367",
         "Ozone (O3)"
        ],
        [
         "24",
         "367",
         "Ozone (O3)"
        ],
        [
         "25",
         "367",
         "Ozone (O3)"
        ],
        [
         "26",
         "367",
         "Ozone (O3)"
        ],
        [
         "27",
         "367",
         "Ozone (O3)"
        ],
        [
         "28",
         "367",
         "Ozone (O3)"
        ],
        [
         "29",
         "367",
         "Ozone (O3)"
        ],
        [
         "30",
         "367",
         "Ozone (O3)"
        ],
        [
         "31",
         "640",
         "Ozone (O3)"
        ],
        [
         "32",
         "367",
         "Ozone (O3)"
        ],
        [
         "33",
         "367",
         "Ozone (O3)"
        ],
        [
         "34",
         "367",
         "Ozone (O3)"
        ],
        [
         "35",
         "367",
         "Ozone (O3)"
        ],
        [
         "36",
         "367",
         "Ozone (O3)"
        ],
        [
         "37",
         "640",
         "Ozone (O3)"
        ],
        [
         "38",
         "367",
         "Ozone (O3)"
        ],
        [
         "39",
         "367",
         "Ozone (O3)"
        ],
        [
         "40",
         "367",
         "Ozone (O3)"
        ],
        [
         "41",
         "367",
         "Ozone (O3)"
        ],
        [
         "42",
         "367",
         "Ozone (O3)"
        ],
        [
         "43",
         "367",
         "Ozone (O3)"
        ],
        [
         "44",
         "367",
         "Ozone (O3)"
        ],
        [
         "45",
         "367",
         "Ozone (O3)"
        ],
        [
         "46",
         "367",
         "Ozone (O3)"
        ],
        [
         "47",
         "367",
         "Ozone (O3)"
        ],
        [
         "48",
         "640",
         "Ozone (O3)"
        ],
        [
         "49",
         "367",
         "Ozone (O3)"
        ]
       ],
       "shape": {
        "columns": 2,
        "rows": 27618
       }
      },
      "text/html": [
       "<div>\n",
       "<style scoped>\n",
       "    .dataframe tbody tr th:only-of-type {\n",
       "        vertical-align: middle;\n",
       "    }\n",
       "\n",
       "    .dataframe tbody tr th {\n",
       "        vertical-align: top;\n",
       "    }\n",
       "\n",
       "    .dataframe thead th {\n",
       "        text-align: right;\n",
       "    }\n",
       "</style>\n",
       "<table border=\"1\" class=\"dataframe\">\n",
       "  <thead>\n",
       "    <tr style=\"text-align: right;\">\n",
       "      <th></th>\n",
       "      <th>indicator_id</th>\n",
       "      <th>name</th>\n",
       "    </tr>\n",
       "  </thead>\n",
       "  <tbody>\n",
       "    <tr>\n",
       "      <th>0</th>\n",
       "      <td>367</td>\n",
       "      <td>Ozone (O3)</td>\n",
       "    </tr>\n",
       "    <tr>\n",
       "      <th>1</th>\n",
       "      <td>640</td>\n",
       "      <td>Ozone (O3)</td>\n",
       "    </tr>\n",
       "    <tr>\n",
       "      <th>2</th>\n",
       "      <td>366</td>\n",
       "      <td>Ozone (O3)</td>\n",
       "    </tr>\n",
       "    <tr>\n",
       "      <th>3</th>\n",
       "      <td>367</td>\n",
       "      <td>Ozone (O3)</td>\n",
       "    </tr>\n",
       "    <tr>\n",
       "      <th>4</th>\n",
       "      <td>367</td>\n",
       "      <td>Ozone (O3)</td>\n",
       "    </tr>\n",
       "    <tr>\n",
       "      <th>...</th>\n",
       "      <td>...</td>\n",
       "      <td>...</td>\n",
       "    </tr>\n",
       "    <tr>\n",
       "      <th>27613</th>\n",
       "      <td>367</td>\n",
       "      <td>Ozone (O3)</td>\n",
       "    </tr>\n",
       "    <tr>\n",
       "      <th>27614</th>\n",
       "      <td>367</td>\n",
       "      <td>Ozone (O3)</td>\n",
       "    </tr>\n",
       "    <tr>\n",
       "      <th>27615</th>\n",
       "      <td>367</td>\n",
       "      <td>Ozone (O3)</td>\n",
       "    </tr>\n",
       "    <tr>\n",
       "      <th>27616</th>\n",
       "      <td>367</td>\n",
       "      <td>Ozone (O3)</td>\n",
       "    </tr>\n",
       "    <tr>\n",
       "      <th>27617</th>\n",
       "      <td>367</td>\n",
       "      <td>Ozone (O3)</td>\n",
       "    </tr>\n",
       "  </tbody>\n",
       "</table>\n",
       "<p>27618 rows × 2 columns</p>\n",
       "</div>"
      ],
      "text/plain": [
       "       indicator_id        name\n",
       "0               367  Ozone (O3)\n",
       "1               640  Ozone (O3)\n",
       "2               366  Ozone (O3)\n",
       "3               367  Ozone (O3)\n",
       "4               367  Ozone (O3)\n",
       "...             ...         ...\n",
       "27613           367  Ozone (O3)\n",
       "27614           367  Ozone (O3)\n",
       "27615           367  Ozone (O3)\n",
       "27616           367  Ozone (O3)\n",
       "27617           367  Ozone (O3)\n",
       "\n",
       "[27618 rows x 2 columns]"
      ]
     },
     "execution_count": 103,
     "metadata": {},
     "output_type": "execute_result"
    }
   ],
   "source": [
    "client_ch.query_df(\n",
    "    '''\n",
    "    SELECT \n",
    "        a.indicator_id\n",
    "        ,a.name\n",
    "    FROM air_quality a\n",
    "    WHERE\n",
    "        name='Ozone (O3)'\n",
    "\n",
    "    '''\n",
    ")"
   ]
  },
  {
   "cell_type": "code",
   "execution_count": 92,
   "id": "040b4d31",
   "metadata": {},
   "outputs": [
    {
     "data": {
      "application/vnd.microsoft.datawrangler.viewer.v0+json": {
       "columns": [
        {
         "name": "index",
         "rawType": "int64",
         "type": "integer"
        }
       ],
       "ref": "5a4d8092-8da8-4706-8c69-f7dea6766274",
       "rows": [],
       "shape": {
        "columns": 0,
        "rows": 0
       }
      },
      "text/html": [
       "<div>\n",
       "<style scoped>\n",
       "    .dataframe tbody tr th:only-of-type {\n",
       "        vertical-align: middle;\n",
       "    }\n",
       "\n",
       "    .dataframe tbody tr th {\n",
       "        vertical-align: top;\n",
       "    }\n",
       "\n",
       "    .dataframe thead th {\n",
       "        text-align: right;\n",
       "    }\n",
       "</style>\n",
       "<table border=\"1\" class=\"dataframe\">\n",
       "  <thead>\n",
       "    <tr style=\"text-align: right;\">\n",
       "      <th></th>\n",
       "    </tr>\n",
       "  </thead>\n",
       "  <tbody>\n",
       "  </tbody>\n",
       "</table>\n",
       "</div>"
      ],
      "text/plain": [
       "Empty DataFrame\n",
       "Columns: []\n",
       "Index: []"
      ]
     },
     "execution_count": 92,
     "metadata": {},
     "output_type": "execute_result"
    }
   ],
   "source": [
    "client_ch.query_df('''\n",
    "    SELECT \n",
    "        a.geo_place_name\n",
    "        , AVG(a.data_value) as avg_data_value\n",
    "        , COUNT(a.data_value) as count_data_value\n",
    "    FROM air_quality a\n",
    "    WHERE \n",
    "        a.name = 'Ozone (O3)'                \n",
    "    GROUP BY a.geo_place_name, a.name\n",
    "    HAVING\n",
    "        avg_data_value > 65\n",
    "        AND count_data_value >= 255\n",
    "''')"
   ]
  },
  {
   "cell_type": "markdown",
   "id": "8765450a",
   "metadata": {},
   "source": [
    "**Ответ:** локаций, удовлетворяющих условиям задания не найдено в данных.\n",
    "\n",
    "\n",
    "2. ▶️Сопоставьте данные по PM2.5 (Name = 'Data ValueM 2.5') и NO2 (Name = 'Nitrogen dioxide (NO2)') для одних и тех же локаций и дат. Сколько есть совпадающих измерений за 1 квартал 2021 года (когда в один день в одной локации измеряли оба показателя)? Как реализовать на портале на 1С-Битрикс доступы так чтобы администраторы видели все данные, менеджеры уровня A имели доступ только к данным PM2.5 и NO2, менеджеры уровня B имели доступ только к данным O3 и CO, все остальные пользователи видели только общие сводки без детализации:"
   ]
  },
  {
   "cell_type": "code",
   "execution_count": 98,
   "id": "c4cd9510",
   "metadata": {},
   "outputs": [
    {
     "data": {
      "application/vnd.microsoft.datawrangler.viewer.v0+json": {
       "columns": [
        {
         "name": "index",
         "rawType": "int64",
         "type": "integer"
        },
        {
         "name": "cnt",
         "rawType": "uint64",
         "type": "integer"
        }
       ],
       "ref": "289b4e77-760a-44ec-8b91-a55e336ddbc3",
       "rows": [
        [
         "0",
         "0"
        ]
       ],
       "shape": {
        "columns": 1,
        "rows": 1
       }
      },
      "text/html": [
       "<div>\n",
       "<style scoped>\n",
       "    .dataframe tbody tr th:only-of-type {\n",
       "        vertical-align: middle;\n",
       "    }\n",
       "\n",
       "    .dataframe tbody tr th {\n",
       "        vertical-align: top;\n",
       "    }\n",
       "\n",
       "    .dataframe thead th {\n",
       "        text-align: right;\n",
       "    }\n",
       "</style>\n",
       "<table border=\"1\" class=\"dataframe\">\n",
       "  <thead>\n",
       "    <tr style=\"text-align: right;\">\n",
       "      <th></th>\n",
       "      <th>cnt</th>\n",
       "    </tr>\n",
       "  </thead>\n",
       "  <tbody>\n",
       "    <tr>\n",
       "      <th>0</th>\n",
       "      <td>0</td>\n",
       "    </tr>\n",
       "  </tbody>\n",
       "</table>\n",
       "</div>"
      ],
      "text/plain": [
       "   cnt\n",
       "0    0"
      ]
     },
     "execution_count": 98,
     "metadata": {},
     "output_type": "execute_result"
    }
   ],
   "source": [
    "\n",
    "\n",
    "client_ch.query_df(\n",
    "    '''\n",
    "    SELECT COUNT(*) AS cnt\n",
    "    FROM (\n",
    "        SELECT \n",
    "            a.geo_place_name,\n",
    "            a.start_date,\n",
    "            a.data_value AS pm25_value,\n",
    "            b.data_value AS no2_value\n",
    "        FROM air_quality a\n",
    "        JOIN air_quality b\n",
    "            ON a.geo_place_name = b.geo_place_name\n",
    "           AND a.start_date = b.start_date\n",
    "        WHERE a.name = 'Data ValueM 2.5'\n",
    "          AND b.name = 'Nitrogen dioxide (NO2)'\n",
    "          AND a.start_date BETWEEN '2021-01-01' AND '2021-03-31'\n",
    "        GROUP BY a.geo_place_name, a.start_date, pm25_value, no2_value\n",
    "    )\n",
    "    '''\n",
    ")\n"
   ]
  },
  {
   "cell_type": "markdown",
   "id": "c6433a7b",
   "metadata": {},
   "source": [
    "**Ответ:** локаций, удовлетворяющих условиям задания не найдено в данных.\n",
    "\n",
    "3. ▶️ Найдите количество локаций, где среднее значение озона (Name = 'Ozone (O3)') выше, чем общее среднее значение озона по всем локациям. В каком году количество таких локаций было самое минимальное, но не нулевое? \n",
    "Для публикации интерактивной карты качества воздуха на сайте, работающем на 1С-Битрикс, требуется настроить автоматическую интеграцию данных. Как правильно организовать эту интеграцию с точки зрения архитектуры сайта?"
   ]
  },
  {
   "cell_type": "code",
   "execution_count": 106,
   "id": "a218979a",
   "metadata": {},
   "outputs": [
    {
     "data": {
      "application/vnd.microsoft.datawrangler.viewer.v0+json": {
       "columns": [
        {
         "name": "index",
         "rawType": "int64",
         "type": "integer"
        },
        {
         "name": "year",
         "rawType": "uint16",
         "type": "integer"
        },
        {
         "name": "locations_above_avg",
         "rawType": "uint64",
         "type": "integer"
        }
       ],
       "ref": "40fd4d41-a2a5-453b-b3d3-f709e2ee2823",
       "rows": [
        [
         "0",
         "2020",
         "38"
        ]
       ],
       "shape": {
        "columns": 2,
        "rows": 1
       }
      },
      "text/html": [
       "<div>\n",
       "<style scoped>\n",
       "    .dataframe tbody tr th:only-of-type {\n",
       "        vertical-align: middle;\n",
       "    }\n",
       "\n",
       "    .dataframe tbody tr th {\n",
       "        vertical-align: top;\n",
       "    }\n",
       "\n",
       "    .dataframe thead th {\n",
       "        text-align: right;\n",
       "    }\n",
       "</style>\n",
       "<table border=\"1\" class=\"dataframe\">\n",
       "  <thead>\n",
       "    <tr style=\"text-align: right;\">\n",
       "      <th></th>\n",
       "      <th>year</th>\n",
       "      <th>locations_above_avg</th>\n",
       "    </tr>\n",
       "  </thead>\n",
       "  <tbody>\n",
       "    <tr>\n",
       "      <th>0</th>\n",
       "      <td>2020</td>\n",
       "      <td>38</td>\n",
       "    </tr>\n",
       "  </tbody>\n",
       "</table>\n",
       "</div>"
      ],
      "text/plain": [
       "   year  locations_above_avg\n",
       "0  2020                   38"
      ]
     },
     "execution_count": 106,
     "metadata": {},
     "output_type": "execute_result"
    }
   ],
   "source": [
    "client_ch.query_df(\n",
    "    '''\n",
    "    WITH global_avg AS (\n",
    "        SELECT avg(data_value) AS avg_o3\n",
    "        FROM air_quality\n",
    "        WHERE name = 'Ozone (O3)'\n",
    "    )\n",
    "    SELECT \n",
    "        year,\n",
    "        countDistinct(geo_place_name) AS locations_above_avg\n",
    "    FROM (\n",
    "        SELECT \n",
    "            toYear(parseDateTimeBestEffort(a.start_date)) AS year,\n",
    "            a.geo_place_name,\n",
    "            avg(data_value) AS avg_o3_location\n",
    "        FROM air_quality a\n",
    "        WHERE a.name = 'Ozone (O3)'\n",
    "        GROUP BY year, a.geo_place_name\n",
    "        HAVING avg_o3_location > (SELECT avg_o3 FROM global_avg)\n",
    "    )\n",
    "    GROUP BY year\n",
    "    HAVING locations_above_avg > 0\n",
    "    ORDER BY locations_above_avg ASC\n",
    "    LIMIT 1\n",
    "    '''\n",
    ")\n"
   ]
  },
  {
   "cell_type": "markdown",
   "id": "ec36f28f",
   "metadata": {},
   "source": [
    "**Ответ**\n",
    "\n",
    "\n",
    "\n",
    "4. ▶️ Для каждой локации найдите максимальное значение PM2.5 и его ранг (от наибольшего к наименьшему) среди всех локаций. Сколько локаций имеют ранг <=5 (учитывая возможные одинаковые значения)? Сколько из них имеет имеет больше 10 и меньше 20 дат, когда одновременно проводились измерения и PM2.5, и NO2 (совпадающие измерения обоих загрязнителей) \n",
    "Необходимо реализовать автоматическую отправку email-уведомлений жителям при превышении допустимых норм PM2.5 в их районе. Каким образом реализовать персонализированную подписку пользователей на уведомления по конкретным локациям?"
   ]
  },
  {
   "cell_type": "code",
   "execution_count": 107,
   "id": "b973a3b1",
   "metadata": {},
   "outputs": [
    {
     "data": {
      "application/vnd.microsoft.datawrangler.viewer.v0+json": {
       "columns": [
        {
         "name": "index",
         "rawType": "int64",
         "type": "integer"
        },
        {
         "name": "total_locations_rank_le_5",
         "rawType": "uint64",
         "type": "integer"
        },
        {
         "name": "locations_with_10_19_matching_dates",
         "rawType": "uint64",
         "type": "integer"
        }
       ],
       "ref": "ea9df798-067f-4426-9c24-24f4ca2aa3e1",
       "rows": [
        [
         "0",
         "0",
         "0"
        ]
       ],
       "shape": {
        "columns": 2,
        "rows": 1
       }
      },
      "text/html": [
       "<div>\n",
       "<style scoped>\n",
       "    .dataframe tbody tr th:only-of-type {\n",
       "        vertical-align: middle;\n",
       "    }\n",
       "\n",
       "    .dataframe tbody tr th {\n",
       "        vertical-align: top;\n",
       "    }\n",
       "\n",
       "    .dataframe thead th {\n",
       "        text-align: right;\n",
       "    }\n",
       "</style>\n",
       "<table border=\"1\" class=\"dataframe\">\n",
       "  <thead>\n",
       "    <tr style=\"text-align: right;\">\n",
       "      <th></th>\n",
       "      <th>total_locations_rank_le_5</th>\n",
       "      <th>locations_with_10_19_matching_dates</th>\n",
       "    </tr>\n",
       "  </thead>\n",
       "  <tbody>\n",
       "    <tr>\n",
       "      <th>0</th>\n",
       "      <td>0</td>\n",
       "      <td>0</td>\n",
       "    </tr>\n",
       "  </tbody>\n",
       "</table>\n",
       "</div>"
      ],
      "text/plain": [
       "   total_locations_rank_le_5  locations_with_10_19_matching_dates\n",
       "0                          0                                    0"
      ]
     },
     "execution_count": 107,
     "metadata": {},
     "output_type": "execute_result"
    }
   ],
   "source": [
    "client_ch.query_df(\n",
    "    '''\n",
    "        WITH pm25_max_ranked AS (\n",
    "            SELECT\n",
    "                geo_place_name,\n",
    "                max(data_value) AS max_pm25,\n",
    "                RANK() OVER (ORDER BY max(data_value) DESC) AS rank_pm25\n",
    "            FROM air_quality\n",
    "            WHERE name = 'Data ValueM 2.5'\n",
    "            GROUP BY geo_place_name\n",
    "        ),\n",
    "\n",
    "        measurements_counts AS (\n",
    "            SELECT\n",
    "                a.geo_place_name,\n",
    "                countDistinct(a.start_date) AS matching_dates_count\n",
    "            FROM air_quality a\n",
    "            JOIN air_quality b\n",
    "            ON a.geo_place_name = b.geo_place_name\n",
    "            AND a.start_date = b.start_date\n",
    "            WHERE a.name = 'Data ValueM 2.5'\n",
    "            AND b.name = 'Nitrogen dioxide (NO2)'\n",
    "            GROUP BY a.geo_place_name\n",
    "        )\n",
    "\n",
    "        SELECT\n",
    "            count(*) AS total_locations_rank_le_5,\n",
    "            countIf(matching_dates_count BETWEEN 10 AND 19) AS locations_with_10_19_matching_dates\n",
    "        FROM pm25_max_ranked pm\n",
    "        LEFT JOIN measurements_counts mc ON pm.geo_place_name = mc.geo_place_name\n",
    "        WHERE pm.rank_pm25 <= 5\n",
    "    '''\n",
    ")\n"
   ]
  },
  {
   "cell_type": "markdown",
   "id": "5c833f33",
   "metadata": {},
   "source": [
    "**Ответ:**\n",
    "\n",
    "▶️ Сколько дней в январе 2021 года было зафиксировано превышение среднесуточной нормы PM2.5 (>35.5 мкг/м³) хотя бы в одной локации?  При разработке комплексной системы мониторинга с публичной частью на 1С-Битрикс и корпоративной частью на Битрикс24, каким образом правильно организовать обмен данными между системами на уровне баз данных?"
   ]
  },
  {
   "cell_type": "code",
   "execution_count": null,
   "id": "a429d59f",
   "metadata": {},
   "outputs": [
    {
     "data": {
      "application/vnd.microsoft.datawrangler.viewer.v0+json": {
       "columns": [
        {
         "name": "index",
         "rawType": "int64",
         "type": "integer"
        },
        {
         "name": "days_exceeding_norm",
         "rawType": "uint64",
         "type": "integer"
        }
       ],
       "ref": "d3be70b2-d8a0-4000-b86d-df7d7c5869f3",
       "rows": [
        [
         "0",
         "1"
        ]
       ],
       "shape": {
        "columns": 1,
        "rows": 1
       }
      },
      "text/html": [
       "<div>\n",
       "<style scoped>\n",
       "    .dataframe tbody tr th:only-of-type {\n",
       "        vertical-align: middle;\n",
       "    }\n",
       "\n",
       "    .dataframe tbody tr th {\n",
       "        vertical-align: top;\n",
       "    }\n",
       "\n",
       "    .dataframe thead th {\n",
       "        text-align: right;\n",
       "    }\n",
       "</style>\n",
       "<table border=\"1\" class=\"dataframe\">\n",
       "  <thead>\n",
       "    <tr style=\"text-align: right;\">\n",
       "      <th></th>\n",
       "      <th>days_exceeding_norm</th>\n",
       "    </tr>\n",
       "  </thead>\n",
       "  <tbody>\n",
       "    <tr>\n",
       "      <th>0</th>\n",
       "      <td>1</td>\n",
       "    </tr>\n",
       "  </tbody>\n",
       "</table>\n",
       "</div>"
      ],
      "text/plain": [
       "   days_exceeding_norm\n",
       "0                    1"
      ]
     },
     "execution_count": 126,
     "metadata": {},
     "output_type": "execute_result"
    }
   ],
   "source": [
    "client_ch.query_df(\n",
    "    '''\n",
    "        SELECT\n",
    "            countDistinct(a.start_date) AS days_exceeding_norm\n",
    "        FROM air_quality a\n",
    "        WHERE \n",
    "            a.start_date BETWEEN '2021-01-01' AND '2021-01-31'\n",
    "            AND a.name LIKE '%PM2.5%'\n",
    "            AND a.measure_info = 'mcg/m3'\n",
    "            AND a.measure='Mean'\n",
    "            AND a.data_value > 35\n",
    "    '''\n",
    ")\n"
   ]
  },
  {
   "cell_type": "markdown",
   "id": "b5544b09",
   "metadata": {},
   "source": [
    "**Ответ:** 1 день."
   ]
  }
 ],
 "metadata": {
  "kernelspec": {
   "display_name": "llm_agents",
   "language": "python",
   "name": "python3"
  },
  "language_info": {
   "codemirror_mode": {
    "name": "ipython",
    "version": 3
   },
   "file_extension": ".py",
   "mimetype": "text/x-python",
   "name": "python",
   "nbconvert_exporter": "python",
   "pygments_lexer": "ipython3",
   "version": "3.12.11"
  }
 },
 "nbformat": 4,
 "nbformat_minor": 5
}
