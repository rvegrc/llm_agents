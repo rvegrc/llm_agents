{
 "cells": [
  {
   "cell_type": "code",
   "execution_count": 1,
   "id": "1d16a0ff",
   "metadata": {},
   "outputs": [],
   "source": [
    "from qdrant_client import QdrantClient\n",
    "from langchain_qdrant import QdrantVectorStore\n",
    "from langchain_huggingface import HuggingFaceEmbeddings\n",
    "from langchain_ollama import OllamaEmbeddings\n",
    "from sentence_transformers import SentenceTransformer\n",
    "from langchain_core.documents import Document\n",
    "\n",
    "from typing import List\n",
    "\n",
    "import os\n",
    "import requests\n",
    "from dotenv import load_dotenv\n",
    "load_dotenv()\n",
    "\n",
    "# Initialize LangSmith project\n",
    "os.environ[\"LANGSMITH_PROJECT\"] = 'tg-bot'\n",
    "\n",
    "QDRANT_URL = os.getenv(\"QDRANT_URL\")\n",
    "LLM_API_SERVER_URL = os.getenv(\"LLM_API_SERVER_URL\")\n",
    "LLM_MODEL_NAME = os.getenv(\"LLM_MODEL_NAME\")"
   ]
  },
  {
   "cell_type": "code",
   "execution_count": 9,
   "id": "f99b5679",
   "metadata": {},
   "outputs": [],
   "source": [
    "def vectorstore_add_collection(\n",
    "        embeddings: OllamaEmbeddings,\n",
    "        client_qd: QdrantClient, \n",
    "        collection_name: str,\n",
    "        distance: str = \"Cosine\"\n",
    "    ) -> None:\n",
    "    \n",
    "    ''' Creates the collection if it does not exist. Use HuggingFaceEmbeddings for embeddings.''' \n",
    "\n",
    "    embedding_dim = len(embeddings.embed_query(\"test\"))\n",
    "\n",
    "    # for HuggingFaceEmbeddings\n",
    "    # embedding_dim = SentenceTransformer(embeddings.model_name).get_sentence_embedding_dimension()\n",
    "\n",
    "    # Create collection if it doesn't exist\n",
    "    if not client_qd.collection_exists(collection_name):\n",
    "        client_qd.create_collection(\n",
    "            collection_name=collection_name,\n",
    "            vectors_config={\n",
    "                \"vector\": {\n",
    "                    \"size\": embedding_dim,\n",
    "                    \"distance\": distance,\n",
    "                }\n",
    "            },\n",
    "        )\n",
    "\n",
    "# distance = \"Cosine\"  \n",
    "# collection_name = 'recall_memories'\n",
    "\n",
    "def vectorstore_collection_init(\n",
    "        client_qd: QdrantClient, \n",
    "        collection_name: str, \n",
    "        embeddings: OllamaEmbeddings,\n",
    "        distance: str = \"Cosine\"\n",
    "    ) -> QdrantVectorStore:\n",
    "    \n",
    "    ''' Initialize a vector store for memory. '''\n",
    "\n",
    "    # Check if the collection does not exist and create it if necessary\n",
    "    if not client_qd.collection_exists(collection_name):\n",
    "        vectorstore_add_collection(\n",
    "            embeddings=embeddings,            \n",
    "            client_qd=client_qd,\n",
    "            collection_name=collection_name,\n",
    "            distance=distance\n",
    "        )\n",
    "\n",
    "    return QdrantVectorStore(\n",
    "        client=client_qd,\n",
    "        collection_name=collection_name,\n",
    "        embedding=embeddings,\n",
    "        vector_name=\"vector\"\n",
    "    )\n",
    "\n",
    "\n",
    "def vectorstore_add_documents(\n",
    "        client_qd: QdrantClient, \n",
    "        collection_name: str, \n",
    "        documents: List[Document], \n",
    "        embeddings: OllamaEmbeddings,        \n",
    "    ) -> None:\n",
    "    \n",
    "    ''' Add documents to the Qdrant collection. '''\n",
    "    \n",
    "     # Initialize vectorstore collection\n",
    "    vs_collection = vectorstore_collection_init(\n",
    "        client_qd=client_qd,\n",
    "        collection_name=collection_name,\n",
    "        embeddings=embeddings,\n",
    "        vector_name=\"vector\",\n",
    "    )\n",
    "\n",
    "\n",
    "    # Add documents to the vectorstore collection\n",
    "    vs_collection.add_documents(documents=documents)\n",
    "\n",
    "def vectorstore_del_collection(\n",
    "        client_qd: QdrantClient, \n",
    "        collection_name: str\n",
    "    ) -> None:\n",
    "    \n",
    "    ''' Drop a Qdrant collection if it exists. '''\n",
    "    \n",
    "    if client_qd.collection_exists(collection_name):\n",
    "        client_qd.delete_collection(collection_name)\n",
    "        print(f\"Collection '{collection_name}' deleted.\")\n",
    "    else:\n",
    "        print(f\"Collection '{collection_name}' does not exist.\")"
   ]
  },
  {
   "cell_type": "code",
   "execution_count": 4,
   "id": "9292f839",
   "metadata": {},
   "outputs": [
    {
     "data": {
      "text/plain": [
       "768"
      ]
     },
     "execution_count": 4,
     "metadata": {},
     "output_type": "execute_result"
    }
   ],
   "source": [
    "\n",
    "client_qd = QdrantClient(url='http://localhost:6333')\n",
    "\n",
    "emb_model_name = 'nomic-embed-text'\n",
    "\n",
    "embeddings = OllamaEmbeddings(\n",
    "    base_url='http://localhost:11434',\n",
    "    model=emb_model_name\n",
    ")\n",
    "\n",
    "embedding_dim = len(embeddings.embed_query(\"test\"))\n",
    "\n",
    "embedding_dim"
   ]
  },
  {
   "cell_type": "code",
   "execution_count": 6,
   "id": "eb1dfc10",
   "metadata": {},
   "outputs": [
    {
     "name": "stdout",
     "output_type": "stream",
     "text": [
      "Collection 'recall_memories' deleted.\n"
     ]
    }
   ],
   "source": [
    "collection_name='recall_memories'\n",
    "\n",
    "vectorstore_del_collection(\n",
    "    client_qd=client_qd,\n",
    "    collection_name=collection_name\n",
    ")"
   ]
  },
  {
   "cell_type": "code",
   "execution_count": 10,
   "id": "633812fe",
   "metadata": {},
   "outputs": [],
   "source": [
    "collection_name='recall_memories'\n",
    "\n",
    "vectorstore_add_collection(\n",
    "    embeddings=embeddings,\n",
    "    client_qd=client_qd,\n",
    "    collection_name=collection_name\n",
    ")"
   ]
  }
 ],
 "metadata": {
  "kernelspec": {
   "display_name": "llm_agents",
   "language": "python",
   "name": "python3"
  },
  "language_info": {
   "codemirror_mode": {
    "name": "ipython",
    "version": 3
   },
   "file_extension": ".py",
   "mimetype": "text/x-python",
   "name": "python",
   "nbconvert_exporter": "python",
   "pygments_lexer": "ipython3",
   "version": "3.12.11"
  }
 },
 "nbformat": 4,
 "nbformat_minor": 5
}
