{
 "cells": [
  {
   "cell_type": "code",
   "execution_count": null,
   "id": "c4aacbd4",
   "metadata": {},
   "outputs": [],
   "source": [
    "from typing import List\n",
    "from langchain_core.documents import Document\n",
    "from langchain_qdrant import QdrantVectorStore\n"
   ]
  },
  {
   "cell_type": "code",
   "execution_count": null,
   "id": "7639946e",
   "metadata": {},
   "outputs": [],
   "source": [
    "# load from  backend\n",
    "user_id = '123'\n",
    "thread_id = '456'\n",
    "\n",
    "def save_memories(\n",
    "        memory: str,\n",
    "        vectorstore: QdrantVectorStore       \n",
    "        ) -> str:\n",
    "    \"\"\"Save memory to vectorstore for later semantic retrieval.\"\"\"\n",
    "    document = Document(\n",
    "        page_content=memory, metadata={\"user_id\": user_id, 'thread_id': thread_id}\n",
    "    )\n",
    "    vectorstore.add_documents([document])\n",
    "    return memory\n",
    "\n",
    "\n",
    "def search_memories(\n",
    "        query: str, \n",
    "        vectorstore: QdrantVectorStore, \n",
    "                ) -> List[str]:\n",
    "    \"\"\"Search for relevant memories.\"\"\"\n",
    "    \n",
    "    # Qdrant filter: match payload field \"user_id\" == user_id and \"thread_id\" == thread_id\n",
    "    qdrant_filter = {\n",
    "        \"must\": [\n",
    "            {\n",
    "                \"key\": \"user_id\",\n",
    "                \"match\": {\"value\": user_id},\n",
    "            },\n",
    "            {\n",
    "                \"key\": \"thread_id\",\n",
    "                \"match\": {\"value\": thread_id},\n",
    "            },\n",
    "        ]\n",
    "    }\n",
    "\n",
    "    documents = vectorstore.similarity_search(\n",
    "        query,\n",
    "        k=3,\n",
    "        filter=qdrant_filter,  # structured filter required by QdrantVectorStore\n",
    "    )\n",
    "    return [doc.page_content for doc in documents]\n"
   ]
  }
 ],
 "metadata": {
  "kernelspec": {
   "display_name": "llm_agents",
   "language": "python",
   "name": "python3"
  },
  "language_info": {
   "codemirror_mode": {
    "name": "ipython",
    "version": 3
   },
   "file_extension": ".py",
   "mimetype": "text/x-python",
   "name": "python",
   "nbconvert_exporter": "python",
   "pygments_lexer": "ipython3",
   "version": "3.12.11"
  }
 },
 "nbformat": 4,
 "nbformat_minor": 5
}
