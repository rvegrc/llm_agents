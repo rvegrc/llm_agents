{
 "cells": [
  {
   "cell_type": "code",
   "execution_count": 1,
   "id": "ea95574d",
   "metadata": {},
   "outputs": [],
   "source": [
    "from langgraph.graph import StateGraph, END\n",
    "from langchain_core.runnables import RunnableLambda\n",
    "from fastapi import FastAPI, Request\n",
    "from pydantic import BaseModel"
   ]
  },
  {
   "cell_type": "code",
   "execution_count": null,
   "id": "a1f94f46",
   "metadata": {},
   "outputs": [],
   "source": [
    "from langgraph.graph import StateGraph, END\n",
    "from langchain_core.runnables import RunnableLambda\n",
    "from memory.memory import memory_tool\n",
    "from tools.rag import rag_tool\n",
    "from tools.qwen_vllm import qwen_tool\n",
    "from tools.search import search_tool\n",
    "\n",
    "\n",
    "def build_agent():\n",
    "    builder = StateGraph()\n",
    "\n",
    "    # Add memory to capture context\n",
    "    builder.add_node(\"Memory\", RunnableLambda(memory_tool))\n",
    "    builder.add_node(\"RAG\", RunnableLambda(rag_tool))\n",
    "    builder.add_node(\"Search\", RunnableLambda(search_tool))\n",
    "    builder.add_node(\"Qwen\", RunnableLambda(qwen_tool))\n",
    "\n",
    "    # Flow: Memory → RAG → Search → Qwen → END\n",
    "    builder.set_entry_point(\"Memory\")\n",
    "    builder.add_edge(\"Memory\", \"RAG\")\n",
    "    builder.add_edge(\"RAG\", \"Search\")\n",
    "    builder.add_edge(\"Search\", \"Qwen\")\n",
    "    builder.add_edge(\"Qwen\", END)\n",
    "\n",
    "    return builder.compile()"
   ]
  },
  {
   "cell_type": "code",
   "execution_count": null,
   "id": "69bee496",
   "metadata": {},
   "outputs": [],
   "source": [
    "from fastapi import FastAPI, Request\n",
    "from pydantic import BaseModel\n",
    "# from langgraph_agent import build_agent\n",
    "\n",
    "app = FastAPI()\n",
    "agent = build_agent()\n",
    "\n",
    "class UserInput(BaseModel):\n",
    "    message: str\n",
    "    session_id: str  # Optional: for multi-user memory\n",
    "\n",
    "@app.post(\"/chat\")\n",
    "def chat(user_input: UserInput):\n",
    "    state = {\"input\": user_input.message, \"session_id\": user_input.session_id}\n",
    "    result = agent.invoke(state)\n",
    "    return {\"response\": result.get(\"input\", \"Sorry, something went wrong.\")}"
   ]
  }
 ],
 "metadata": {
  "kernelspec": {
   "display_name": "llm_agents",
   "language": "python",
   "name": "python3"
  },
  "language_info": {
   "codemirror_mode": {
    "name": "ipython",
    "version": 3
   },
   "file_extension": ".py",
   "mimetype": "text/x-python",
   "name": "python",
   "nbconvert_exporter": "python",
   "pygments_lexer": "ipython3",
   "version": "3.12.11"
  }
 },
 "nbformat": 4,
 "nbformat_minor": 5
}
