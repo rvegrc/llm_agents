{
 "cells": [
  {
   "cell_type": "code",
   "execution_count": 1,
   "id": "76ff69bf",
   "metadata": {},
   "outputs": [],
   "source": [
    "from langchain_community.tools import DuckDuckGoSearchRun\n",
    "# To get more additional information (e.g. link, source) use DuckDuckGoSearchResults()\n",
    "from langchain_community.tools import DuckDuckGoSearchResults\n",
    "from langchain_tavily import TavilySearch\n",
    "\n",
    "# from langchain_core.tools import tool\n",
    "\n",
    "from dotenv import load_dotenv\n",
    "load_dotenv()\n",
    "\n",
    "# @tool\n",
    "def search_tool(query: str) -> TavilySearch:\n",
    "    \"\"\"Search in Internet by TavilySearch for a query and return the results.\"\"\"\n",
    "    search = TavilySearch(\n",
    "        max_results=2,\n",
    "#     # topic=\"general\",\n",
    "#     # include_answer=False,\n",
    "#     # include_raw_content=False,\n",
    "#     # include_images=False,\n",
    "#     # include_image_descriptions=False,\n",
    "#     # search_depth=\"basic\",\n",
    "#     # time_range=\"day\",\n",
    "#     # include_domains=None,\n",
    "#     # exclude_domains=None\n",
    ")\n",
    "    \n",
    "    return search.invoke(query)\n",
    "\n",
    "# search_tool(\"Какая погода сегодня в Москве\")  # Example usage\n",
    "\n",
    "\n",
    "# @tool\n",
    "# def search_tool(query: str) -> DuckDuckGoSearchResults:\n",
    "#     \"\"\"Search in Internet  DuckDuckGo for a query and return the results.\"\"\"\n",
    "#     search = DuckDuckGoSearchResults()\n",
    "#     return search.invoke(query)\n",
    "\n",
    "# search_tool(\"Какая погода сегодня в Москве\")  # Example usage\n"
   ]
  },
  {
   "cell_type": "code",
   "execution_count": null,
   "id": "7a1ad77f",
   "metadata": {},
   "outputs": [],
   "source": []
  }
 ],
 "metadata": {
  "kernelspec": {
   "display_name": "llm_agents",
   "language": "python",
   "name": "python3"
  },
  "language_info": {
   "codemirror_mode": {
    "name": "ipython",
    "version": 3
   },
   "file_extension": ".py",
   "mimetype": "text/x-python",
   "name": "python",
   "nbconvert_exporter": "python",
   "pygments_lexer": "ipython3",
   "version": "3.12.11"
  }
 },
 "nbformat": 4,
 "nbformat_minor": 5
}
