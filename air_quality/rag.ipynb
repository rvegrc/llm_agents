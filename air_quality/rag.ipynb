from langchain_community.document_loaders import PyPDFLoader, Docx2txtLoader, TextLoader
from langchain_huggingface.embeddings import HuggingFaceEmbeddings
from langchain_text_splitters import RecursiveCharacterTextSplitter

# for .env file support and get access to api keys
from dotenv import load_dotenv
load_dotenv()







 def load_documents(folder_path: str) -> List[Document]:
    documents = []
    for filename in os.listdir(folder_path):
        print(f"Processing file: {filename}")
        file_path = os.path.join(folder_path, filename)

        try:
            if filename.endswith('.pdf'):
                loader = PyPDFLoader(file_path)
            elif filename.endswith('.docx') or filename.endswith('.rtf'):
                loader = Docx2txtLoader(file_path)
            elif filename.endswith('.txt') or filename.endswith('.md') or filename.endswith('.csv'):
                loader = TextLoader(file_path)
            elif filename.endswith('.yaml') or filename.endswith('.yml'):
                loader = UnstructuredYAMLLoader(file_path)
            else:
                print(f"Unsupported file type: {filename}")
                continue
            else:
                print(f"Unsupported file type: {filename}")
                continue

            documents.extend(loader.load())
        except Exception as e:
            print(f"Failed to load {filename}: {e}")
