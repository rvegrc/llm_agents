{
 "cells": [
  {
   "cell_type": "code",
   "execution_count": 7,
   "id": "29d2e168",
   "metadata": {},
   "outputs": [
    {
     "name": "stdout",
     "output_type": "stream",
     "text": [
      "API Health Check: 200 {\"status\":\"ok\"}\n"
     ]
    }
   ],
   "source": [
    "import secrets\n",
    "import string\n",
    "import json\n",
    "import requests\n",
    "\n",
    "\n",
    "# set api url\n",
    "# api_url = 'https://example.com/generate' # for dev server\n",
    "api_url = 'http://localhost:8000' # for local testing\n",
    "\n",
    "endpoint = '/health'\n",
    "response = requests.get(f'{api_url}{endpoint}')\n",
    "\n",
    "print(\"API Health Check:\", response.status_code, response.text)"
   ]
  },
  {
   "cell_type": "markdown",
   "id": "af2f7170",
   "metadata": {},
   "source": [
    "## Test API key"
   ]
  },
  {
   "cell_type": "code",
   "execution_count": null,
   "id": "1c8ee5ca",
   "metadata": {},
   "outputs": [],
   "source": [
    "# get api key from db\n",
    "# api_keys = client.query_df(f'''select ak.api_key from {dev_db}.api_keys ak''')\n",
    "# api_key_0 = api_keys['api_key'].iloc[0]\n",
    "\n",
    "# test api key\n",
    "params = {\n",
    "    'api_key': api_key_0,\n",
    "}\n",
    "response = requests.get(f'{api_url}/test_secure_endpoint', params=params)\n",
    "print(response.status_code, response.text)"
   ]
  },
  {
   "cell_type": "markdown",
   "id": "8e483715",
   "metadata": {},
   "source": [
    "## Test LLM"
   ]
  },
  {
   "cell_type": "code",
   "execution_count": 10,
   "id": "49a91f30",
   "metadata": {},
   "outputs": [
    {
     "name": "stdout",
     "output_type": "stream",
     "text": [
      "200 {\"generated_text\":\"Echo: Какая погода сегодня в Москве\"}\n"
     ]
    }
   ],
   "source": [
    "payload = {\n",
    "  \"prompt\": \"Какая погода сегодня в Москве\",\n",
    "  \"user_id\": \"123\",\n",
    "  \"thread_id\": \"123\"\n",
    "}\n",
    "\n",
    "endpoint = '/generate'\n",
    "\n",
    "response = requests.post(f'{api_url}{endpoint}', json=payload)\n",
    "print(response.status_code, response.text)"
   ]
  }
 ],
 "metadata": {
  "kernelspec": {
   "display_name": "llm_agents",
   "language": "python",
   "name": "python3"
  },
  "language_info": {
   "codemirror_mode": {
    "name": "ipython",
    "version": 3
   },
   "file_extension": ".py",
   "mimetype": "text/x-python",
   "name": "python",
   "nbconvert_exporter": "python",
   "pygments_lexer": "ipython3",
   "version": "3.12.11"
  }
 },
 "nbformat": 4,
 "nbformat_minor": 5
}
